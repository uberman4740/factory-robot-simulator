{
 "cells": [
  {
   "cell_type": "code",
   "execution_count": null,
   "metadata": {
    "collapsed": false
   },
   "outputs": [],
   "source": [
    "%%javascript\n",
    "IPython.OutputArea.auto_scroll_threshold = 9999;"
   ]
  },
  {
   "cell_type": "code",
   "execution_count": null,
   "metadata": {
    "collapsed": false
   },
   "outputs": [],
   "source": [
    "%matplotlib inline"
   ]
  },
  {
   "cell_type": "code",
   "execution_count": null,
   "metadata": {
    "collapsed": false
   },
   "outputs": [],
   "source": [
    "import os, sys, inspect\n",
    "# realpath() will make your script run, even if you symlink it :)\n",
    "cmd_folder = os.path.realpath(os.path.abspath(\n",
    "        os.path.join(os.path.split(inspect.getfile( inspect.currentframe() ))[0],\n",
    "                     '..', '..', 'labeled-experiments', 'nn-classifiers')))\n",
    "print 'Added {0} to path.'.format(cmd_folder)\n",
    "if cmd_folder not in sys.path:\n",
    "    sys.path.insert(0, cmd_folder)"
   ]
  },
  {
   "cell_type": "code",
   "execution_count": null,
   "metadata": {
    "collapsed": false
   },
   "outputs": [],
   "source": [
    "import labeling_network as lbln\n",
    "from matplotlib import pyplot as plt\n",
    "import matplotlib.colors\n",
    "import theano\n",
    "import theano.tensor as T\n",
    "import numpy as np\n",
    "from labeling_network import FullyConnectedLayer, ConvPoolLayer\n",
    "\n",
    "import time\n",
    "import datetime"
   ]
  },
  {
   "cell_type": "code",
   "execution_count": null,
   "metadata": {
    "collapsed": true
   },
   "outputs": [],
   "source": [
    "dataPath = '../../../factory-robot-data/imgs_2015-10-18-2/'"
   ]
  },
  {
   "cell_type": "code",
   "execution_count": null,
   "metadata": {
    "collapsed": true
   },
   "outputs": [],
   "source": [
    "n_direction_sensors = 9\n",
    "n_classes = 2\n",
    "rng = np.random.RandomState()"
   ]
  },
  {
   "cell_type": "code",
   "execution_count": null,
   "metadata": {
    "collapsed": false
   },
   "outputs": [],
   "source": [
    "load_time_start = time.time()\n",
    "train_data, valid_data, test_data = lbln.load_data_shared(\n",
    "                     dataPath,\n",
    "                     'capture',\n",
    "                     dataPath + 'labels.dat',\n",
    "                     n_train=16000,\n",
    "                     n_validation=2000,\n",
    "                     n_test=100,\n",
    "                     label_mask=-1,\n",
    "                     n_direction_sensors=n_direction_sensors,\n",
    "                     n_classes=n_classes,\n",
    "                     shuffle_rng=rng,\n",
    "                     hsv='hsv')\n",
    "\n",
    "# reverse target and label\n",
    "train_data = train_data[1], train_data[0]\n",
    "valid_data = valid_data[1], valid_data[0]\n",
    "test_data = test_data[1], test_data[0]\n",
    "\n",
    "\n",
    "print 'Loading data took {0:.5} seconds'.format(time.time() - load_time_start)"
   ]
  },
  {
   "cell_type": "code",
   "execution_count": null,
   "metadata": {
    "collapsed": true
   },
   "outputs": [],
   "source": [
    "mini_batch_size = 20"
   ]
  },
  {
   "cell_type": "markdown",
   "metadata": {},
   "source": [
    "### Train the Network. "
   ]
  },
  {
   "cell_type": "code",
   "execution_count": null,
   "metadata": {
    "collapsed": false
   },
   "outputs": [],
   "source": [
    "network = lbln.Network([\n",
    "        \n",
    "#         ConvPoolLayer(image_shape=(mini_batch_size, 3, 64, 64), \n",
    "#                       filter_shape=(20, 3, 7, 7), \n",
    "#                       poolsize=(2, 2),\n",
    "#                       activation_fn=lbln.ReLU),\n",
    "#         FullyConnectedLayer(n_in=29*29*20, n_out=128, p_dropout=0.5),\n",
    "#         FullyConnectedLayer(n_in=128, n_out=5)\n",
    "        \n",
    "        \n",
    "        FullyConnectedLayer(n_in=n_classes*n_direction_sensors, n_out=2048),\n",
    "#         FullyConnectedLayer(n_in=128, n_out=2048),\n",
    "        FullyConnectedLayer(n_in=2048, n_out=64*64*3)\n",
    "        \n",
    "#         FullyConnectedLayer(n_in=25, n_out=400, p_dropout=0.0),\n",
    "#         FullyConnectedLayer(n_in=400, n_out=64*64*3)\n",
    "        \n",
    "    ], mini_batch_size)"
   ]
  },
  {
   "cell_type": "code",
   "execution_count": null,
   "metadata": {
    "collapsed": false
   },
   "outputs": [],
   "source": [
    "network.SGD(train_data, \n",
    "            1000, \n",
    "            mini_batch_size, \n",
    "            10.0, \n",
    "            valid_data, \n",
    "            test_data,\n",
    "            'trained-networks/decoders/d_' + datetime.datetime.now().strftime('%Y%m%d%H%M%S'),\n",
    "#             rmsprop=(0.001, 0.9, 1e-6, 1.0),\n",
    "            adam=(0.01, 0.1, 0.001, 1e-8)\n",
    "#             learning_curve_file_name='decoder_learning_curve_bigdata'\n",
    "           )"
   ]
  },
  {
   "cell_type": "markdown",
   "metadata": {},
   "source": [
    "#### Save network weights."
   ]
  },
  {
   "cell_type": "code",
   "execution_count": null,
   "metadata": {
    "collapsed": true
   },
   "outputs": [],
   "source": [
    "# network.save_as_file('fire_classifier')"
   ]
  },
  {
   "cell_type": "code",
   "execution_count": null,
   "metadata": {
    "collapsed": false
   },
   "outputs": [],
   "source": [
    "# network = network.load_from_file('best_encoder_bigdata', 10)"
   ]
  },
  {
   "cell_type": "code",
   "execution_count": null,
   "metadata": {
    "collapsed": false
   },
   "outputs": [],
   "source": [
    "import pylab\n",
    "pylab.rcParams['figure.figsize'] = (6.0, 6.0)"
   ]
  },
  {
   "cell_type": "code",
   "execution_count": null,
   "metadata": {
    "collapsed": false
   },
   "outputs": [],
   "source": [
    "train_data_xs = train_data[0].get_value()\n",
    "train_data_ts = train_data[1].get_value()\n",
    "\n",
    "test_data_xs = test_data[0].get_value()\n",
    "test_data_ts = test_data[1].get_value()\n",
    "\n",
    "valid_data_xs = valid_data[0].get_value()\n",
    "valid_data_ts = valid_data[1].get_value()\n"
   ]
  },
  {
   "cell_type": "markdown",
   "metadata": {},
   "source": [
    "### Determine all Losses on test images."
   ]
  },
  {
   "cell_type": "code",
   "execution_count": null,
   "metadata": {
    "collapsed": true
   },
   "outputs": [],
   "source": [
    "def show_image(img, hsv=None):\n",
    "    if hsv is None:\n",
    "        plt.imshow(img.reshape(64, 64, 3), interpolation='nearest')\n",
    "        plt.show()\n",
    "    else:\n",
    "        plt.imshow(matplotlib.colors.hsv_to_rgb(img.reshape(64, 64, 3)), interpolation='nearest')\n",
    "        plt.show()"
   ]
  },
  {
   "cell_type": "code",
   "execution_count": null,
   "metadata": {
    "collapsed": false
   },
   "outputs": [],
   "source": [
    "def print_classification(index, n_classes, n_directions):\n",
    "#     print 'Target:    ', classifications[index][1]\n",
    "#     print 'Prediction:', classifications[index][2]\n",
    "    print 'Loss:      ', classifications[index][3]\n",
    "    show_image(classifications[index][1], hsv='hsv')\n",
    "    show_image(classifications[index][2], hsv='hsv')\n",
    "    \n",
    "    \n",
    "    \n",
    "    fig = plt.figure(figsize=(12,6))\n",
    "    ax_left = fig.add_subplot(111)\n",
    "    ax_left.set_ylim(0,1)\n",
    "    bar_width = 0.1\n",
    "    chart_colors = ['#ff2222', '#3399bb', '#55aa22', '#bbee33', '#881144']\n",
    "    for i in xrange(n_classes):\n",
    "        ax_left.bar(np.arange(n_directions)-(n_directions/2) + (i - n_directions/2.0 + 0.5)*bar_width,\n",
    "               classifications[index][0][i*n_directions: (i+1)*n_directions],\n",
    "               bar_width,\n",
    "               color=chart_colors[i],\n",
    "               align='center')\n",
    "    plt.show()\n",
    "    print '---------'\n",
    "        \n",
    "\n",
    "\n",
    "# Determine all errors on the test images\n",
    "classifications = []\n",
    "for x, t in zip(valid_data_xs, valid_data_ts):\n",
    "    prediction = network.get_single_output(x)\n",
    "    error = np.mean((t - prediction) ** 2)\n",
    "    classifications.append((x, t, prediction, error))\n",
    "\n",
    "print '--- Worst predictions: ---'\n",
    "classifications = sorted(classifications, key = lambda (x, t, p, e): e, reverse=True)\n",
    "print_classification(0, n_classes, n_direction_sensors)\n",
    "print_classification(1, n_classes, n_direction_sensors)\n",
    "\n",
    "print '\\n\\n'\n",
    "print '--- Median prediction ---'\n",
    "n_displayed_median = 8\n",
    "for i in xrange(-n_displayed_median/2, n_displayed_median/2):\n",
    "    print_classification(len(classifications)/2 + i, n_classes, n_direction_sensors)\n",
    "    \n",
    "fig = plt.figure()\n",
    "ax = fig.add_subplot(111)\n",
    "ax.bar(np.arange(len(classifications)), np.asarray(classifications)[:, 3])\n",
    "plt.show()"
   ]
  }
 ],
 "metadata": {
  "kernelspec": {
   "display_name": "Python 2",
   "language": "python",
   "name": "python2"
  },
  "language_info": {
   "codemirror_mode": {
    "name": "ipython",
    "version": 2
   },
   "file_extension": ".py",
   "mimetype": "text/x-python",
   "name": "python",
   "nbconvert_exporter": "python",
   "pygments_lexer": "ipython2",
   "version": "2.7.10"
  }
 },
 "nbformat": 4,
 "nbformat_minor": 0
}

{
 "cells": [
  {
   "cell_type": "code",
   "execution_count": 1,
   "metadata": {
    "collapsed": false
   },
   "outputs": [
    {
     "name": "stderr",
     "output_type": "stream",
     "text": [
      "/usr/local/lib/python2.7/site-packages/matplotlib/__init__.py:1318: UserWarning:  This call to matplotlib.use() has no effect\n",
      "because the backend has already been chosen;\n",
      "matplotlib.use() must be called *before* pylab, matplotlib.pyplot,\n",
      "or matplotlib.backends is imported for the first time.\n",
      "\n",
      "  warnings.warn(_use_error_msg)\n"
     ]
    }
   ],
   "source": [
    "import matplotlib\n",
    "matplotlib.use(\"Agg\")"
   ]
  },
  {
   "cell_type": "code",
   "execution_count": 2,
   "metadata": {
    "collapsed": false
   },
   "outputs": [
    {
     "data": {
      "application/javascript": [
       "IPython.OutputArea.auto_scroll_threshold = 9999;"
      ],
      "text/plain": [
       "<IPython.core.display.Javascript object>"
      ]
     },
     "metadata": {},
     "output_type": "display_data"
    }
   ],
   "source": [
    "%%javascript\n",
    "IPython.OutputArea.auto_scroll_threshold = 9999;"
   ]
  },
  {
   "cell_type": "code",
   "execution_count": 3,
   "metadata": {
    "collapsed": false
   },
   "outputs": [],
   "source": [
    "%matplotlib inline\n",
    "mpl_cols = ['#3388dd', '#aa3377', '#449911']"
   ]
  },
  {
   "cell_type": "code",
   "execution_count": 4,
   "metadata": {
    "collapsed": false
   },
   "outputs": [
    {
     "name": "stdout",
     "output_type": "stream",
     "text": [
      "Added /Users/an/dev-repos/factory-robot-simulator/labeled-experiments/nn-classifiers to path.\n",
      "Added /Users/an/dev-repos/factory-robot-simulator/seq-prediction to path.\n"
     ]
    }
   ],
   "source": [
    "import os, sys, inspect\n",
    "# realpath() will make your script run, even if you symlink it :)\n",
    "cmd_folder = os.path.realpath(os.path.abspath(\n",
    "        os.path.join(os.path.split(inspect.getfile( inspect.currentframe() ))[0],\n",
    "                     '..', '..', 'labeled-experiments', 'nn-classifiers')))\n",
    "cmd_folder2 = os.path.realpath(os.path.abspath(\n",
    "        os.path.join(os.path.split(inspect.getfile( inspect.currentframe() ))[0],\n",
    "                     '..')))\n",
    "\n",
    "if cmd_folder not in sys.path:\n",
    "    print 'Added {0} to path.'.format(cmd_folder)\n",
    "    sys.path.insert(0, cmd_folder)\n",
    "\n",
    "if cmd_folder2 not in sys.path:\n",
    "    print 'Added {0} to path.'.format(cmd_folder2)\n",
    "    sys.path.insert(0, cmd_folder2)"
   ]
  },
  {
   "cell_type": "code",
   "execution_count": 5,
   "metadata": {
    "collapsed": false
   },
   "outputs": [
    {
     "name": "stdout",
     "output_type": "stream",
     "text": [
      "Running with a CPU.  If this is not desired, then the modify network3.py to set\n",
      "the GPU flag to True.\n"
     ]
    }
   ],
   "source": [
    "import labeling_network as lbln\n",
    "\n",
    "from matplotlib import pyplot as plt\n",
    "import theano\n",
    "import theano.tensor as T\n",
    "import numpy as np\n",
    "from labeling_network import FullyConnectedLayer, ConvPoolLayer\n",
    "\n",
    "import time\n",
    "import datetime"
   ]
  },
  {
   "cell_type": "code",
   "execution_count": 6,
   "metadata": {
    "collapsed": true
   },
   "outputs": [],
   "source": [
    "rng = np.random.RandomState(12345678)"
   ]
  },
  {
   "cell_type": "code",
   "execution_count": 7,
   "metadata": {
    "collapsed": true
   },
   "outputs": [],
   "source": [
    "dataPath = '../../../factory-robot-data/imgs_2015-10-26/'"
   ]
  },
  {
   "cell_type": "code",
   "execution_count": 8,
   "metadata": {
    "collapsed": false
   },
   "outputs": [],
   "source": [
    "import dataloader"
   ]
  },
  {
   "cell_type": "markdown",
   "metadata": {},
   "source": [
    "#### Load image data. "
   ]
  },
  {
   "cell_type": "code",
   "execution_count": 9,
   "metadata": {
    "collapsed": false
   },
   "outputs": [
    {
     "name": "stdout",
     "output_type": "stream",
     "text": [
      "Loading data took 44.794 seconds\n"
     ]
    }
   ],
   "source": [
    "n_direction_sensors = 9\n",
    "n_classes = 2\n",
    "load_time_start = time.time()\n",
    "# all_data, v__, t__ = lbln.load_data_shared(\n",
    "#                      dataPath,\n",
    "#                      'capture',\n",
    "#                      dataPath + 'labels.dat',\n",
    "#                      n_train=30000,\n",
    "#                      n_validation=0,\n",
    "#                      n_test=0,\n",
    "#                      label_mask=-1,\n",
    "#                      n_direction_sensors=n_direction_sensors,\n",
    "#                      n_classes=n_classes,\n",
    "#                      shuffle_rng=rng,\n",
    "#                      hsv='hsv')\n",
    "\n",
    "# def load_images(lower, upper, file_path, file_prefix, hsv=None):\n",
    "#     return np.asarray([load_training_img(i, file_path, file_prefix, hsv)\n",
    "#                        for i in range(lower, upper)])\n",
    "\n",
    "\n",
    "# reverse target and label\n",
    "all_images = lbln.load_images(0, 30000, dataPath, 'capture', hsv='hsv')\n",
    "\n",
    "print 'Loading data took {0:.5} seconds'.format(time.time() - load_time_start)"
   ]
  },
  {
   "cell_type": "markdown",
   "metadata": {},
   "source": [
    "#### Load sequence data."
   ]
  },
  {
   "cell_type": "code",
   "execution_count": 10,
   "metadata": {
    "collapsed": false
   },
   "outputs": [
    {
     "name": "stdout",
     "output_type": "stream",
     "text": [
      "load data (30000)...\n"
     ]
    }
   ],
   "source": [
    "sequence_length = 500\n",
    "crop_end = 2\n",
    "n_train = 0\n",
    "n_test = 60\n",
    "n_data = sequence_length * (n_train + n_test)\n",
    "input_length = 21\n",
    "percept_length = 18\n",
    "\n",
    "print 'load data ({0})...'.format(n_data)\n",
    "data = dataloader.get_data(0, n_data + 1, \n",
    "                           data_path_lab=dataPath+'labels.dat', \n",
    "                           data_path_act=dataPath+'actions.dat')\n",
    "inputs, percepts, cam_imgs = dataloader.make_batches(data, sequence_length, crop_end=crop_end, input_images=all_images)\n",
    "x_train = inputs[:n_train]\n",
    "y_train = percepts[:n_train]\n",
    "imgs_train = cam_imgs[:n_train]\n",
    "\n",
    "x_test = inputs[n_train:]\n",
    "y_test = percepts[n_train:]\n",
    "imgs_test = cam_imgs[n_train:]"
   ]
  },
  {
   "cell_type": "code",
   "execution_count": 11,
   "metadata": {
    "collapsed": false
   },
   "outputs": [
    {
     "data": {
      "image/png": "[encoded data removed]",
      "text/plain": [
       "<matplotlib.figure.Figure at 0x10afc1650>"
      ]
     },
     "metadata": {},
     "output_type": "display_data"
    },
    {
     "data": {
      "image/png": "[encoded data removed]",
      "text/plain": [
       "<matplotlib.figure.Figure at 0x10dd70610>"
      ]
     },
     "metadata": {},
     "output_type": "display_data"
    }
   ],
   "source": [
    "plt.bar(np.arange(21), x_test[1, 50])\n",
    "plt.show()\n",
    "plt.imshow(matplotlib.colors.hsv_to_rgb(imgs_test[1, 50].reshape(64, 64, 3)))\n",
    "plt.show()"
   ]
  },
  {
   "cell_type": "code",
   "execution_count": 12,
   "metadata": {
    "collapsed": false
   },
   "outputs": [],
   "source": [
    "# n_train = 150000\n",
    "# n_valid = 5000\n",
    "# n_test = 1000\n",
    "\n",
    "# n_direction_sensors=9\n",
    "# n_classes=2\n",
    "# n_actions=3\n",
    "# delta_t = 2\n",
    "# n_past = 15\n",
    "# n_future = 12\n",
    "\n",
    "\n",
    "# lower = 0\n",
    "# upper = n_train + n_valid + n_test + delta_t*n_past\n",
    "\n",
    "\n",
    "\n",
    "# load_time_start = time.time()\n",
    "# label_data_raw = lbln.load_labeling_data(dataPath+'labels.dat', lower, upper, mask=-1, \n",
    "#                                          n_direction_sensors=n_direction_sensors, \n",
    "#                                          n_classes=n_classes)\n",
    "# actions_raw = convert_actions(load_action_data(dataPath+'actions.dat', lower, upper), \n",
    "#                               n_actions=n_actions)\n",
    "\n",
    "# all_data = construct_training_examples(label_data_raw, actions_raw, delta_t, n_past, n_future)\n",
    "# all_data = shuffle_data(all_data, rng)\n",
    "\n",
    "# training_xs = theano.shared(all_data[0][:n_train], borrow=True)\n",
    "# training_ts = theano.shared(all_data[1][:n_train], borrow=True)\n",
    "\n",
    "# valid_xs = theano.shared(all_data[0][n_train: n_train+n_valid], borrow=True)\n",
    "# valid_ts = theano.shared(all_data[1][n_train: n_train+n_valid], borrow=True)\n",
    "\n",
    "# test_xs = theano.shared(all_data[0][n_train+n_valid:], borrow=True)\n",
    "# test_ts = theano.shared(all_data[1][n_train+n_valid:], borrow=True)\n",
    "\n",
    "\n",
    "# print 'Loading data took {0:.5} seconds'.format(time.time() - load_time_start)"
   ]
  },
  {
   "cell_type": "code",
   "execution_count": 13,
   "metadata": {
    "collapsed": true
   },
   "outputs": [],
   "source": [
    "def visualize_frame(ax, percept, n_sensors, action, color=mpl_cols[0]):\n",
    "    percept_length = len(percept)\n",
    "    n_actions = len(action)\n",
    "    ax.get_xaxis().set_visible(False)\n",
    "    ax.get_yaxis().set_visible(False)\n",
    "    ax.bar(np.arange(percept_length), percept, \n",
    "           color=color,\n",
    "           edgecolor='none',\n",
    "           align='center')\n",
    "    ax.bar(np.arange(percept_length, percept_length + n_actions), action,\n",
    "          color=mpl_cols[1],\n",
    "          edgecolor='none',\n",
    "          align='center')\n",
    "    ax.set_xlim(-0.5, percept_length+n_actions-0.5)\n",
    "    ax.set_ylim(0, 1)\n",
    "    ax.axvline(x=n_sensors-0.5)\n",
    "    ax.axvline(x=percept_length-0.5)\n",
    "\n",
    "def visualize_example(x, t, percept_length, n_sensors, n_actions, n_past, n_future):\n",
    "    fig = plt.figure(figsize=(6, 1*(n_past+1)))\n",
    "    for i in xrange(n_past):\n",
    "        ax = fig.add_subplot(n_past + n_future, 1, i + 1)\n",
    "        visualize_frame(ax, \n",
    "                        x[i*(percept_length + n_actions):\n",
    "                             (i + 1)*percept_length + i*n_actions],\n",
    "                        n_sensors,\n",
    "                        x[(i+1)*percept_length + i*n_actions:\n",
    "                          (i + 1)*(percept_length + n_actions)])\n",
    "    for i in xrange(n_future-1):\n",
    "        print x[n_past*(percept_length + n_actions) + i*n_actions:\n",
    "                n_past*(percept_length + n_actions) + (i + 1)*n_actions]      \n",
    "    \n",
    "    for i in xrange(n_future):\n",
    "        ax = fig.add_subplot(n_past + n_future, 1, n_past + i + 1)\n",
    "        visualize_frame(ax, \n",
    "                        t[i*percept_length: (i+1)*percept_length], \n",
    "                        n_sensors, \n",
    "                        np.zeros(n_actions), \n",
    "                        color=mpl_cols[2])\n",
    "    plt.show()"
   ]
  },
  {
   "cell_type": "markdown",
   "metadata": {},
   "source": [
    "## Visualize predictions"
   ]
  },
  {
   "cell_type": "markdown",
   "metadata": {},
   "source": [
    "#### Load networks"
   ]
  },
  {
   "cell_type": "code",
   "execution_count": 14,
   "metadata": {
    "collapsed": true
   },
   "outputs": [],
   "source": [
    "from keras.models import model_from_json\n",
    "def load_model(architecture_filename, weights_filename):\n",
    "    model = model_from_json(open(architecture_filename).read())\n",
    "    model.load_weights(weights_filename)\n",
    "    return model"
   ]
  },
  {
   "cell_type": "code",
   "execution_count": 15,
   "metadata": {
    "collapsed": false
   },
   "outputs": [
    {
     "name": "stdout",
     "output_type": "stream",
     "text": [
      "Loading and compiling model. This may take a while.\n",
      "loading the models took 107.407371998 seconds\n"
     ]
    },
    {
     "name": "stderr",
     "output_type": "stream",
     "text": [
      "/usr/local/lib/python2.7/site-packages/theano/scan_module/scan_perform_ext.py:135: RuntimeWarning: numpy.ndarray size changed, may indicate binary incompatibility\n",
      "  from scan_perform.scan_perform import *\n"
     ]
    }
   ],
   "source": [
    "import time\n",
    "from keras.models import model_from_json\n",
    "print 'Loading and compiling model. This may take a while.'\n",
    "dir_name = 'trained-networks/'\n",
    "file_prefix = 'dec20151026094429'\n",
    "visualization_architecture_filename = dir_name + file_prefix + '.json'\n",
    "visualization_weights_filename = dir_name + file_prefix + '.h5'\n",
    "\n",
    "prediction_architecture_filename = '../20151025out_100/json.dat'\n",
    "prediction_weights_filename = '../20151025out_100/model_checkpoint.h5'\n",
    "time.sleep(0.1)\n",
    "\n",
    "\n",
    "tic = time.time()\n",
    "prediction_model = load_model(prediction_architecture_filename, prediction_weights_filename)\n",
    "visualization_model = load_model(visualization_architecture_filename, visualization_weights_filename)\n",
    "toc = time.time()\n",
    "print 'loading the models took {0} seconds'.format(toc - tic)"
   ]
  },
  {
   "cell_type": "markdown",
   "metadata": {},
   "source": [
    "#### Predictions."
   ]
  },
  {
   "cell_type": "code",
   "execution_count": 16,
   "metadata": {
    "collapsed": true
   },
   "outputs": [],
   "source": [
    "def recursive_prediction(model, past, next_actions):\n",
    "    past_percepts = np.array(past)\n",
    "    n_predict = next_actions.shape[0]\n",
    "    \n",
    "    predictions = []\n",
    "    for i in xrange(n_predict):\n",
    "        complete_prediction = model.predict(past_percepts)\n",
    "        current_prediction = complete_prediction[0, -1]\n",
    "        predictions.append(current_prediction)\n",
    "        current_action = next_actions[i]\n",
    "        next_input = np.append(current_prediction, current_action)\n",
    "        past_percepts[:-1] = past_percepts[1:]\n",
    "        past_percepts[-1] = next_input\n",
    "        \n",
    "    return np.array(predictions)"
   ]
  },
  {
   "cell_type": "code",
   "execution_count": 17,
   "metadata": {
    "collapsed": false
   },
   "outputs": [],
   "source": [
    "# print recursive_prediction(model=prediction_model, \n",
    "#                            past=x_test[0:1, 0:250], \n",
    "#                            next_actions=x_test[0, 100:125, -3:])"
   ]
  },
  {
   "cell_type": "code",
   "execution_count": 21,
   "metadata": {
    "collapsed": false
   },
   "outputs": [],
   "source": [
    "# xs = valid_xs.get_value()\n",
    "# ts = valid_ts.get_value()\n",
    "\n",
    "# def extract_frames_from_x(x, n_direction_sensors, n_classes, n_actions, n_past):\n",
    "#     return np.asarray([x[ i   *(n_direction_sensors*n_classes + n_actions):\n",
    "#                          (i+1)*n_direction_sensors*n_classes + i*n_actions] for i in xrange(n_past)])\n",
    "# def extract_frames_from_t(t, n_direction_sensors, n_classes, n_future):\n",
    "#     return np.asarray([t[i*n_direction_sensors*n_classes:\n",
    "#                          (i+1)*n_direction_sensors*n_classes] for i in xrange(n_future)])\n",
    "\n",
    "# # print extract_frames_from_x(xs[0], n_direction_sensors, n_classes, n_actions, n_past)\n",
    "# # print extract_frames_from_t(ts[0], n_direction_sensors, n_classes, n_past)\n",
    "\n",
    "\n",
    "def make_animation(filename, frames_past, frames_target, frames_predicted, visualization_net, n_direction_sensors,\n",
    "                  past_real_images=None, target_real_images=None):\n",
    "    import matplotlib.animation as manimation\n",
    "\n",
    "    FFMpegWriter = manimation.writers['ffmpeg']\n",
    "    metadata = dict(title='anim', artist='an', comment='comment')\n",
    "    writer = FFMpegWriter(fps=8, metadata=metadata)\n",
    "\n",
    "    fig = plt.figure(figsize=(8, 16))\n",
    "    \n",
    "    def export_frame(fig, writer, frame_left, frame_right, n_direction_sensors, actual_img=None):\n",
    "        fig.clear()\n",
    "        \n",
    "        if actual_img is None:\n",
    "            vis_l = (visualization_net.predict(np.asarray([frame_left]))).reshape(64, 64, 3)\n",
    "        else:\n",
    "            vis_l = actual_img.reshape(64, 64, 3)\n",
    "        \n",
    "        vis_l = matplotlib.colors.hsv_to_rgb(vis_l)\n",
    "        \n",
    "        vis_r = (visualization_net.predict(np.asarray([frame_right]))).reshape(64, 64, 3)\n",
    "        vis_r = matplotlib.colors.hsv_to_rgb(vis_r)\n",
    "\n",
    "        ax1 = fig.add_subplot(3, 1, 2)\n",
    "#         ax1.imshow(vis_l, interpolation='nearest')\n",
    "\n",
    "\n",
    "\n",
    "        ax2 = fig.add_subplot(3, 1, 1)\n",
    "#         ax2.imshow(vis_r, interpolation='nearest')\n",
    "\n",
    "        ax3 = fig.add_subplot(3, 1, 3)\n",
    "        ax3.set_ylim(0, 1)\n",
    "#         for j in xrange(len(frame_left) / n_direction_sensors):\n",
    "#             ax3.bar(np.arange(n_direction_sensors) + j*n_direction_sensors,\n",
    "#                     frame_left[j*n_direction_sensors:(j+1)*n_direction_sensors],\n",
    "#                     color=mpl_cols[j % len(mpl_cols)],\n",
    "#                     edgecolor='none')\n",
    "            \n",
    "#         ax3.bar(np.arange(frame_left.shape[0])-0.5, frame_left, color='#99ccee', linewidth=0, align='center')\n",
    "#         ax3.bar(np.arange(frame_left.shape[0])-0.5,\n",
    "#                frame_left - frame_right, \n",
    "#                bottom = frame_right,\n",
    "#                width=0.35, \n",
    "#                color='#660000', \n",
    "#                alpha=1.0,\n",
    "#                linewidth=0, \n",
    "#                align='center')\n",
    "\n",
    "\n",
    "\n",
    "#         ax1.set_frame_on(False)\n",
    "#         ax1.get_yaxis().set_visible(False)\n",
    "#         ax1.get_xaxis().set_visible(False)\n",
    "#         ax2.set_frame_on(False)\n",
    "#         ax2.get_yaxis().set_visible(False)\n",
    "#         ax2.get_xaxis().set_visible(False)            \n",
    "#         ax3.get_xaxis().set_visible(False)\n",
    "        writer.grab_frame()\n",
    "    \n",
    "    with writer.saving(fig, filename, 300):\n",
    "        for i in xrange(len(frames_past)):\n",
    "            if past_real_images is None:\n",
    "                export_frame(fig, writer, frames_past[i], frames_past[i], n_direction_sensors)\n",
    "            else:\n",
    "                export_frame(fig, writer, frames_past[i], frames_past[i], n_direction_sensors, \n",
    "                             past_real_images[i])\n",
    "        for i in xrange(len(frames_target)):\n",
    "            if target_real_images is None:\n",
    "                export_frame(fig, writer, frames_target[i], frames_predicted[i], n_direction_sensors)\n",
    "            else:\n",
    "                export_frame(fig, writer, frames_target[i], frames_predicted[i], n_direction_sensors,\n",
    "                            target_real_images[i])\n",
    "            "
   ]
  },
  {
   "cell_type": "code",
   "execution_count": 22,
   "metadata": {
    "collapsed": false
   },
   "outputs": [
    {
     "data": {
      "image/png": "[encoded data removed]",
      "text/plain": [
       "<matplotlib.figure.Figure at 0x298ba1fd0>"
      ]
     },
     "metadata": {},
     "output_type": "display_data"
    },
    {
     "data": {
      "image/png": "[encoded data removed]",
      "text/plain": [
       "<matplotlib.figure.Figure at 0x298b96150>"
      ]
     },
     "metadata": {},
     "output_type": "display_data"
    }
   ],
   "source": [
    "# batch_index = 20\n",
    "\n",
    "for batch_index in xrange(2):\n",
    "    n_seq_init = 25\n",
    "    n_predict = 25\n",
    "\n",
    "    past_frames = x_test[batch_index, 0:n_seq_init]\n",
    "    past_real_images = imgs_test[batch_index, 0:n_seq_init]\n",
    "    next_actions = x_test[batch_index, n_seq_init: n_seq_init+n_predict, -3:]\n",
    "\n",
    "    predicted_frames = recursive_prediction(prediction_model,\n",
    "                                            np.asarray([past_frames]),\n",
    "                                            next_actions)\n",
    "\n",
    "    target_frames = x_test[batch_index, n_seq_init: n_seq_init+n_predict, :-3]\n",
    "    target_real_images = imgs_test[batch_index, n_seq_init: n_seq_init+n_predict]\n",
    "\n",
    "    make_animation('anims-2015-10-26/anim{0}.mp4'.format(batch_index), \n",
    "                   past_frames[:, :-3], \n",
    "                   target_frames,\n",
    "                   predicted_frames,  \n",
    "                   visualization_model,\n",
    "                   n_direction_sensors,\n",
    "                   past_real_images=past_real_images,\n",
    "                   target_real_images=target_real_images)\n",
    "\n"
   ]
  },
  {
   "cell_type": "code",
   "execution_count": null,
   "metadata": {
    "collapsed": true
   },
   "outputs": [],
   "source": []
  },
  {
   "cell_type": "code",
   "execution_count": null,
   "metadata": {
    "collapsed": true
   },
   "outputs": [],
   "source": []
  }
 ],
 "metadata": {
  "kernelspec": {
   "display_name": "Python 2",
   "language": "python",
   "name": "python2"
  },
  "language_info": {
   "codemirror_mode": {
    "name": "ipython",
    "version": 2
   },
   "file_extension": ".py",
   "mimetype": "text/x-python",
   "name": "python",
   "nbconvert_exporter": "python",
   "pygments_lexer": "ipython2",
   "version": "2.7.10"
  }
 },
 "nbformat": 4,
 "nbformat_minor": 0
}

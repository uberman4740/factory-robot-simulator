{
 "cells": [
  {
   "cell_type": "code",
   "execution_count": 1,
   "metadata": {
    "collapsed": false
   },
   "outputs": [
    {
     "data": {
      "application/javascript": [
       "IPython.OutputArea.auto_scroll_threshold = 9999;"
      ],
      "text/plain": [
       "<IPython.core.display.Javascript object>"
      ]
     },
     "metadata": {},
     "output_type": "display_data"
    }
   ],
   "source": [
    "%%javascript\n",
    "IPython.OutputArea.auto_scroll_threshold = 9999;"
   ]
  },
  {
   "cell_type": "code",
   "execution_count": 2,
   "metadata": {
    "collapsed": false
   },
   "outputs": [],
   "source": [
    "%matplotlib inline\n",
    "mpl_cols = ['#3388dd', '#aa3377', '#449911']"
   ]
  },
  {
   "cell_type": "code",
   "execution_count": 3,
   "metadata": {
    "collapsed": false
   },
   "outputs": [
    {
     "name": "stdout",
     "output_type": "stream",
     "text": [
      "Added /Users/an/dev-repos/factory-robot-simulator/labeled-experiments/nn-classifiers to path.\n"
     ]
    }
   ],
   "source": [
    "import os, sys, inspect\n",
    "# realpath() will make your script run, even if you symlink it :)\n",
    "cmd_folder = os.path.realpath(os.path.abspath(\n",
    "        os.path.join(os.path.split(inspect.getfile( inspect.currentframe() ))[0],\n",
    "                     '..', '..', 'labeled-experiments', 'nn-classifiers')))\n",
    "print 'Added {0} to path.'.format(cmd_folder)\n",
    "if cmd_folder not in sys.path:\n",
    "    sys.path.insert(0, cmd_folder)"
   ]
  },
  {
   "cell_type": "code",
   "execution_count": 4,
   "metadata": {
    "collapsed": false
   },
   "outputs": [
    {
     "name": "stdout",
     "output_type": "stream",
     "text": [
      "Running with a CPU.  If this is not desired, then the modify network3.py to set\n",
      "the GPU flag to True.\n"
     ]
    }
   ],
   "source": [
    "import labeling_network as lbln\n",
    "from matplotlib import pyplot as plt\n",
    "import theano\n",
    "import theano.tensor as T\n",
    "import numpy as np\n",
    "from labeling_network import FullyConnectedLayer, ConvPoolLayer\n",
    "\n",
    "import time\n",
    "import datetime"
   ]
  },
  {
   "cell_type": "code",
   "execution_count": 5,
   "metadata": {
    "collapsed": true
   },
   "outputs": [],
   "source": [
    "rng = np.random.RandomState(12345678)"
   ]
  },
  {
   "cell_type": "code",
   "execution_count": 6,
   "metadata": {
    "collapsed": true
   },
   "outputs": [],
   "source": [
    "dataPath = '../../../factory-robot-data/imgs_2015-10-17/'"
   ]
  },
  {
   "cell_type": "code",
   "execution_count": 7,
   "metadata": {
    "collapsed": true
   },
   "outputs": [],
   "source": [
    "def load_action_data(filename, lower, upper):\n",
    "    action_file = open(filename)\n",
    "    lines = action_file.readlines()[lower:upper]\n",
    "    action_file.close()\n",
    "    data = np.asarray([int(l) for l in lines])\n",
    "    return data\n",
    "#     return data.reshape(upper - lower, n_direction_sensors * n_classes)\n"
   ]
  },
  {
   "cell_type": "code",
   "execution_count": 8,
   "metadata": {
    "collapsed": true
   },
   "outputs": [],
   "source": [
    "def convert_actions(actions, n_actions):\n",
    "    result = []\n",
    "    for a in actions:\n",
    "        x = [0.0] * n_actions\n",
    "        x[a] = 1.0\n",
    "        result.append(x)\n",
    "    return np.asarray(result, dtype=theano.config.floatX)\n",
    "        "
   ]
  },
  {
   "cell_type": "code",
   "execution_count": 9,
   "metadata": {
    "collapsed": false
   },
   "outputs": [],
   "source": [
    "def construct_training_examples(label_data, action_data, delta_t, n_past, n_future):\n",
    "    assert len(label_data) == len(action_data)\n",
    "    percept_len = label_data.shape[1]\n",
    "    n_actions = action_data.shape[1]\n",
    "    \n",
    "    xs_length = n_past*percept_len + (n_past + n_future - 1)*n_actions\n",
    "    t_length = n_future*percept_len\n",
    "    \n",
    "    training_data_xs = np.empty((len(label_data) - (n_past + n_future - 1)*delta_t, xs_length), \n",
    "                                dtype=theano.config.floatX)\n",
    "    training_data_ts = np.empty((len(label_data) - (n_past + n_future - 1)*delta_t, t_length),\n",
    "                                dtype=theano.config.floatX)\n",
    "    \n",
    "    for i in xrange(n_past * delta_t, len(label_data) - ((n_future-1)*delta_t + 1)):\n",
    "        example = []\n",
    "        for j in xrange(n_future):\n",
    "            training_data_ts[i - n_past*delta_t, j*percept_len: (j+1)*percept_len] = np.asarray(\n",
    "                label_data[i+j], dtype=theano.config.floatX)\n",
    "            \n",
    "            if (n_future - j) > 1:\n",
    "                xs_a = np.mean(action_data[i + j*delta_t: \n",
    "                                           i + (j+1)*delta_t] , axis=0)\n",
    "#                 print -(n_future-j-1)*n_actions\n",
    "#                 print -(n_future-j-2)*n_actions\n",
    "#                 print xs_a.shape\n",
    "#                 print\n",
    "                if n_future - j == 2:\n",
    "                    training_data_xs[i - n_past*delta_t, -(n_future-j-1)*n_actions:] = xs_a\n",
    "                else:\n",
    "                    training_data_xs[i - n_past*delta_t, -(n_future-j-1)*n_actions:\n",
    "                                                         -(n_future-j-2)*n_actions] = xs_a\n",
    "        for j in xrange(n_past):\n",
    "            xs_d = label_data[i - (n_past*delta_t) + j*delta_t]\n",
    "            xs_a = np.mean(action_data[i - (n_past*delta_t) + j*delta_t : \n",
    "                                       i - (n_past*delta_t) + (j+1)*delta_t] , axis=0)\n",
    "            training_data_xs[i - n_past*delta_t, j*(percept_len + n_actions):\n",
    "                                                 (j+1)*percept_len + j*n_actions] = xs_d\n",
    "            training_data_xs[i - n_past*delta_t, (j+1)*percept_len + j*n_actions:\n",
    "                                                 (j+1)*(percept_len + n_actions)] = xs_a\n",
    "             \n",
    "    return training_data_xs, training_data_ts"
   ]
  },
  {
   "cell_type": "code",
   "execution_count": 10,
   "metadata": {
    "collapsed": false
   },
   "outputs": [],
   "source": [
    "def shuffle_data(data, rng):\n",
    "    xs, ts = data\n",
    "    index_set = np.asarray(range(len(xs)))\n",
    "    rng.shuffle(index_set)\n",
    "    return xs[index_set], ts[index_set]"
   ]
  },
  {
   "cell_type": "code",
   "execution_count": 18,
   "metadata": {
    "collapsed": false
   },
   "outputs": [
    {
     "name": "stdout",
     "output_type": "stream",
     "text": [
      "Loading data took 1.0568 seconds\n"
     ]
    }
   ],
   "source": [
    "n_train = 10\n",
    "n_valid = 5000\n",
    "n_test = 1000\n",
    "\n",
    "n_direction_sensors=7\n",
    "n_classes=2\n",
    "n_actions=3\n",
    "delta_t = 2\n",
    "n_past = 12\n",
    "n_future = 5\n",
    "\n",
    "\n",
    "lower = 0\n",
    "upper = n_train + n_valid + n_test + delta_t*n_past\n",
    "\n",
    "\n",
    "\n",
    "load_time_start = time.time()\n",
    "label_data_raw = lbln.load_labeling_data(dataPath+'labels.dat', lower, upper, mask=-1, \n",
    "                                         n_direction_sensors=n_direction_sensors, \n",
    "                                         n_classes=n_classes)\n",
    "actions_raw = convert_actions(load_action_data(dataPath+'actions.dat', lower, upper), \n",
    "                              n_actions=n_actions)\n",
    "\n",
    "all_data = construct_training_examples(label_data_raw, actions_raw, delta_t, n_past, n_future)\n",
    "all_data = shuffle_data(all_data, rng)\n",
    "\n",
    "training_xs = theano.shared(all_data[0][:n_train], borrow=True)\n",
    "training_ts = theano.shared(all_data[1][:n_train], borrow=True)\n",
    "\n",
    "valid_xs = theano.shared(all_data[0][n_train: n_train+n_valid], borrow=True)\n",
    "valid_ts = theano.shared(all_data[1][n_train: n_train+n_valid], borrow=True)\n",
    "\n",
    "test_xs = theano.shared(all_data[0][n_train+n_valid:], borrow=True)\n",
    "test_ts = theano.shared(all_data[1][n_train+n_valid:], borrow=True)\n",
    "\n",
    "\n",
    "print 'Loading data took {0:.5} seconds'.format(time.time() - load_time_start)"
   ]
  },
  {
   "cell_type": "code",
   "execution_count": 19,
   "metadata": {
    "collapsed": true
   },
   "outputs": [],
   "source": [
    "def visualize_frame(ax, percept, n_sensors, action, color=mpl_cols[0]):\n",
    "    percept_length = len(percept)\n",
    "    n_actions = len(action)\n",
    "    ax.get_xaxis().set_visible(False)\n",
    "    ax.get_yaxis().set_visible(False)\n",
    "    ax.bar(np.arange(percept_length), percept, \n",
    "           color=color,\n",
    "           edgecolor='none',\n",
    "           align='center')\n",
    "    ax.bar(np.arange(percept_length, percept_length + n_actions), action,\n",
    "          color=mpl_cols[1],\n",
    "          edgecolor='none',\n",
    "          align='center')\n",
    "    ax.set_xlim(-0.5, percept_length+n_actions-0.5)\n",
    "    ax.set_ylim(0, 1)\n",
    "    ax.axvline(x=n_sensors-0.5)\n",
    "    ax.axvline(x=percept_length-0.5)\n",
    "\n",
    "def visualize_example(x, t, percept_length, n_sensors, n_actions, n_past, n_future):\n",
    "    fig = plt.figure(figsize=(6, 1*(n_past+1)))\n",
    "    for i in xrange(n_past):\n",
    "        ax = fig.add_subplot(n_past + n_future, 1, i + 1)\n",
    "        visualize_frame(ax, \n",
    "                        x[i*(percept_length + n_actions):\n",
    "                             (i + 1)*percept_length + i*n_actions],\n",
    "                        n_sensors,\n",
    "                        x[(i+1)*percept_length + i*n_actions:\n",
    "                          (i + 1)*(percept_length + n_actions)])\n",
    "    for i in xrange(n_future-1):\n",
    "        print x[n_past*(percept_length + n_actions) + i*n_actions:\n",
    "                n_past*(percept_length + n_actions) + (i + 1)*n_actions]      \n",
    "    \n",
    "    for i in xrange(n_future):\n",
    "        ax = fig.add_subplot(n_past + n_future, 1, n_past + i + 1)\n",
    "        visualize_frame(ax, \n",
    "                        t[i*percept_length: (i+1)*percept_length], \n",
    "                        n_sensors, \n",
    "                        np.zeros(n_actions), \n",
    "                        color=mpl_cols[2])\n",
    "    plt.show()"
   ]
  },
  {
   "cell_type": "code",
   "execution_count": 20,
   "metadata": {
    "collapsed": false
   },
   "outputs": [
    {
     "name": "stdout",
     "output_type": "stream",
     "text": [
      "0\n"
     ]
    },
    {
     "data": {
      "image/png": "[encoded data removed]",
      "text/plain": [
       "<matplotlib.figure.Figure at 0x10cb887d0>"
      ]
     },
     "metadata": {},
     "output_type": "display_data"
    }
   ],
   "source": [
    "for i in xrange(0, 1):\n",
    "    fig = plt.figure(figsize=(6, 1))\n",
    "    ax = fig.add_subplot(211)\n",
    "    ax2= fig.add_subplot(212)\n",
    "    print i\n",
    "    visualize_frame(ax, label_data_raw[i + delta_t*n_past], 7, actions_raw[i])\n",
    "    visualize_frame(ax2, training_ts.get_value()[i], 7, np.zeros(3))\n",
    "    plt.show()"
   ]
  },
  {
   "cell_type": "code",
   "execution_count": 21,
   "metadata": {
    "collapsed": false
   },
   "outputs": [
    {
     "name": "stdout",
     "output_type": "stream",
     "text": [
      "[ 1.  0.  0.]\n",
      "[ 1.  0.  0.]\n",
      "[ 1.  0.  0.]\n",
      "[ 1.  0.  0.]\n"
     ]
    },
    {
     "data": {
      "image/png": "[encoded data removed]",
      "text/plain": [
       "<matplotlib.figure.Figure at 0x10cb7a310>"
      ]
     },
     "metadata": {},
     "output_type": "display_data"
    }
   ],
   "source": [
    "for i in xrange(0, 1, delta_t):\n",
    "    visualize_example(training_xs.get_value()[i], training_ts.get_value()[i], \n",
    "                      n_direction_sensors*n_classes, \n",
    "                      n_direction_sensors, \n",
    "                      n_actions, \n",
    "                      n_past, \n",
    "                      n_future)"
   ]
  },
  {
   "cell_type": "markdown",
   "metadata": {},
   "source": [
    "##### Training parameters"
   ]
  },
  {
   "cell_type": "code",
   "execution_count": 15,
   "metadata": {
    "collapsed": true
   },
   "outputs": [],
   "source": [
    "mini_batch_size = 10"
   ]
  },
  {
   "cell_type": "markdown",
   "metadata": {},
   "source": [
    "### Train the Network. "
   ]
  },
  {
   "cell_type": "code",
   "execution_count": 16,
   "metadata": {
    "collapsed": false
   },
   "outputs": [],
   "source": [
    "network = lbln.Network([\n",
    "        FullyConnectedLayer(n_in=n_past*(n_direction_sensors*n_classes + n_actions) + (n_future-1)*n_actions, \n",
    "                            n_out=300),\n",
    "        FullyConnectedLayer(n_in=300, \n",
    "                            n_out=n_direction_sensors*n_classes*n_future)\n",
    "    ], mini_batch_size)"
   ]
  },
  {
   "cell_type": "code",
   "execution_count": null,
   "metadata": {
    "collapsed": false
   },
   "outputs": [],
   "source": [
    "network.SGD((training_xs, training_ts), \n",
    "            100, \n",
    "            mini_batch_size, \n",
    "            0.2, \n",
    "            (valid_xs, valid_ts), \n",
    "            (test_xs, test_ts),\n",
    "            'trained-networks/t_nf' + str(n_future) + '_np' + str(n_past) + '_' + datetime.datetime.now().strftime('%Y%m%d%H%M%S'),\n",
    "#             learning_curve_file_name='decoder_learning_curve_bigdata',\n",
    "            rmsprop=(0.001, 0.9, 1e-6, 1.0)\n",
    "           )"
   ]
  },
  {
   "cell_type": "markdown",
   "metadata": {},
   "source": [
    "### Test network."
   ]
  },
  {
   "cell_type": "code",
   "execution_count": 24,
   "metadata": {
    "collapsed": false
   },
   "outputs": [
    {
     "name": "stdout",
     "output_type": "stream",
     "text": [
      "Loading network: 2 layers loaded.\n",
      "mse net:    0.00561058402274\n"
     ]
    }
   ],
   "source": [
    "network_filename = 'trained-networks/t_nf5_np12_20151018055615'\n",
    "\n",
    "n_eval = 7000\n",
    "\n",
    "simple_errors = []\n",
    "net_errors = []\n",
    "\n",
    "\n",
    "net = network.load_from_file(network_filename, mini_batch_size)\n",
    "for x, t in zip(valid_xs.get_value()[:n_eval], valid_ts.get_value()[:n_eval]):\n",
    "#     simple_prediction = x[-(n_direction_sensors*n_classes + n_actions) : -n_actions]\n",
    "    net_prediction = net.get_single_output(x)\n",
    "#     simple_errors.append(np.mean((simple_prediction - t) ** 2))\n",
    "    net_errors.append(np.mean((net_prediction - t) ** 2))\n",
    "#     print prediction\n",
    "#     print t\n",
    "#     print (prediction - t) ** 2\n",
    "#     print np.mean((prediction-t) ** 2)\n",
    "# print 'mse simple: {0}'.format(np.mean(simple_errors))\n",
    "print 'mse net:    {0}'.format(np.mean(net_errors))"
   ]
  },
  {
   "cell_type": "code",
   "execution_count": 28,
   "metadata": {
    "collapsed": false
   },
   "outputs": [
    {
     "name": "stdout",
     "output_type": "stream",
     "text": [
      "[ 0.  0.  1.]\n",
      "[ 0.  0.  1.]\n",
      "[ 0.  0.  1.]\n",
      "[ 0.  0.  1.]\n"
     ]
    },
    {
     "data": {
      "image/png": "[encoded data removed]",
      "text/plain": [
       "<matplotlib.figure.Figure at 0x10e1c5cd0>"
      ]
     },
     "metadata": {},
     "output_type": "display_data"
    },
    {
     "name": "stdout",
     "output_type": "stream",
     "text": [
      "[ 0.  0.  1.]\n",
      "[ 0.  0.  1.]\n",
      "[ 0.  0.  1.]\n",
      "[ 0.  0.  1.]\n"
     ]
    },
    {
     "data": {
      "image/png": "[encoded data removed]",
      "text/plain": [
       "<matplotlib.figure.Figure at 0x10da54250>"
      ]
     },
     "metadata": {},
     "output_type": "display_data"
    }
   ],
   "source": [
    "i = rng.randint(valid_xs.get_value().shape[0])\n",
    "ex = valid_xs.get_value()[i]\n",
    "visualize_example(ex, valid_ts.get_value()[i], \n",
    "                      n_direction_sensors*n_classes, \n",
    "                      n_direction_sensors, \n",
    "                      n_actions, \n",
    "                      n_past, \n",
    "                      n_future)\n",
    "\n",
    "visualize_example(ex, net.get_single_output(ex), \n",
    "                      n_direction_sensors*n_classes, \n",
    "                      n_direction_sensors, \n",
    "                      n_actions, \n",
    "                      n_past, \n",
    "                      n_future)"
   ]
  },
  {
   "cell_type": "code",
   "execution_count": null,
   "metadata": {
    "collapsed": false
   },
   "outputs": [],
   "source": [
    "import pylab\n",
    "pylab.rcParams['figure.figsize'] = (6.0, 6.0)"
   ]
  },
  {
   "cell_type": "code",
   "execution_count": null,
   "metadata": {
    "collapsed": false
   },
   "outputs": [],
   "source": [
    "test_data_xs = test_data[0].get_value()\n",
    "test_data_ts = test_data[1].get_value()\n",
    "\n",
    "valid_data_xs = valid_data[0].get_value()\n",
    "valid_data_ts = valid_data[1].get_value()\n"
   ]
  },
  {
   "cell_type": "markdown",
   "metadata": {},
   "source": [
    "### Determine all Losses on test images."
   ]
  },
  {
   "cell_type": "code",
   "execution_count": null,
   "metadata": {
    "collapsed": false
   },
   "outputs": [],
   "source": [
    "def print_classification(index, n_classes=5, n_directions=5):\n",
    "#     print 'Target:    ', classifications[index][1]\n",
    "#     print 'Prediction:', classifications[index][2]\n",
    "    print 'Loss:      ', classifications[index][3]\n",
    "    plt.imshow(classifications[index][0].reshape(64, 64, 3), interpolation='nearest')\n",
    "    plt.show()\n",
    "    \n",
    "    fig = plt.figure(figsize=(12,6))\n",
    "    ax_left = fig.add_subplot(121)\n",
    "    ax_right = fig.add_subplot(122)\n",
    "    ax_left.set_ylim(0,1)\n",
    "    ax_right.set_ylim(0,1)\n",
    "    bar_width = 0.1\n",
    "    chart_colors = ['#ff2222', '#3399bb', '#55aa22', '#bbee33', '#881144']\n",
    "    for i in xrange(n_classes):\n",
    "        ax_left.bar(np.arange(n_directions)-(n_directions/2) + (i - n_directions/2.0 + 0.5)*bar_width,\n",
    "               classifications[index][1][i*n_directions: (i+1)*n_directions],\n",
    "               bar_width,\n",
    "               color=chart_colors[i],\n",
    "               align='center')\n",
    "        ax_right.bar(np.arange(n_directions)-(n_directions/2) + (i - n_directions/2.0 + 0.5)*bar_width,\n",
    "               classifications[index][2][i*n_directions: (i+1)*n_directions],\n",
    "               bar_width,\n",
    "               color=chart_colors[i],\n",
    "               align='center')\n",
    "    plt.show()\n",
    "    print '---------'\n",
    "        \n",
    "\n",
    "\n",
    "# Determine all errors on the test images\n",
    "classifications = []\n",
    "for x, t in zip(valid_data_xs, valid_data_ts):\n",
    "    prediction = network.get_single_output(x)\n",
    "    error = np.mean((t - prediction) ** 2)\n",
    "    classifications.append((x, t, prediction, error))\n",
    "\n",
    "print '--- Worst predictions: ---'\n",
    "classifications = sorted(classifications, key = lambda (x, t, p, e): e, reverse=True)\n",
    "print_classification(0)\n",
    "print_classification(1)\n",
    "\n",
    "print '\\n\\n'\n",
    "print '--- Median prediction ---'\n",
    "n_displayed_median = 8\n",
    "for i in xrange(-n_displayed_median/2, n_displayed_median/2):\n",
    "    print_classification(len(classifications)/2 + i)\n",
    "    \n",
    "fig = plt.figure()\n",
    "ax = fig.add_subplot(111)\n",
    "ax.bar(np.arange(len(classifications)), np.asarray(classifications)[:, 3])\n",
    "plt.show()"
   ]
  },
  {
   "cell_type": "markdown",
   "metadata": {},
   "source": [
    "### False positives / negatives."
   ]
  },
  {
   "cell_type": "code",
   "execution_count": null,
   "metadata": {
    "collapsed": false
   },
   "outputs": [],
   "source": [
    "print '--- FALSE POSITIVES ---'\n",
    "classifications = sorted(classifications, key = lambda (x, t, p, e): np.mean(p - t), reverse=True)\n",
    "print_classification(0)\n",
    "print_classification(1)\n",
    "\n",
    "\n",
    "print '\\n\\n\\n\\n--- FALSE NEGATIVES ---'\n",
    "classifications = sorted(classifications, key = lambda (x, t, p, e): np.mean(t - p), reverse=True)\n",
    "print_classification(0)\n",
    "print_classification(1)"
   ]
  },
  {
   "cell_type": "markdown",
   "metadata": {},
   "source": [
    "### Find images displaying high signal w.r.t. target of interest."
   ]
  },
  {
   "cell_type": "code",
   "execution_count": null,
   "metadata": {
    "collapsed": false
   },
   "outputs": [],
   "source": [
    "HUMAN, PICKUP, TERMINAL, FIRE, WALL = range(5)\n",
    "\n",
    "chosen_target = FIRE\n",
    "high_signal_indices = [i for (i, c) in enumerate(classifications)\n",
    "                       if np.mean(c[1][chosen_target*5: (chosen_target+1)*5]) > 0.2]\n",
    "\n",
    "print '%d high signal images.' % len(high_signal_indices)\n",
    "\n",
    "for i in np.asarray(high_signal_indices)[np.random.choice(np.arange(len(high_signal_indices)),\n",
    "                                              size=10,\n",
    "                                              replace=False)]:\n",
    "    print_classification(i)\n"
   ]
  },
  {
   "cell_type": "markdown",
   "metadata": {},
   "source": [
    "### Determine baseline."
   ]
  },
  {
   "cell_type": "code",
   "execution_count": null,
   "metadata": {
    "collapsed": false
   },
   "outputs": [],
   "source": [
    "## AVERAGE SQUARED MAGNITUDE OF SENSOR VALUES:\n",
    "\n",
    "test_targets = train_data[1].get_value()\n",
    "print 'Loss of mean-regressor: %f' % np.mean((test_targets - np.mean(test_targets)) ** 2)"
   ]
  },
  {
   "cell_type": "markdown",
   "metadata": {},
   "source": [
    "### Visualize target labels"
   ]
  },
  {
   "cell_type": "code",
   "execution_count": null,
   "metadata": {
    "collapsed": false
   },
   "outputs": [],
   "source": [
    "import scipy.misc\n",
    "\n",
    "def load_training_img(index):\n",
    "    return scipy.misc.imread(dataPath + 'capture' + str(index).zfill(6) + '.png')[:,:,:-1]\n",
    "\n",
    "def load_labeling_data(lower, upper):    \n",
    "    labels = open(dataPath + 'labels.dat')\n",
    "    lines = labels.readlines()[lower:upper]\n",
    "\n",
    "    data = np.asarray([[float(d) for d in l.split(',')[:-1]] for l in lines])\n",
    "    return data.reshape(upper-lower, 5, 5)\n",
    "\n",
    "pic_ind = 5\n",
    "\n",
    "img = load_training_img(pic_ind)\n",
    "\n",
    "plt.imshow(img, interpolation='nearest')\n",
    "plt.show()\n",
    "\n",
    "\n",
    "data = load_labeling_data(pic_ind, pic_ind+1)\n",
    "label_titles = ['Humanoid', 'PickupBox', 'Terminal', 'Fire', 'Walls']\n",
    "\n",
    "for d, t in zip(data[0], label_titles):\n",
    "    ax = plt.subplot()    \n",
    "    ax.set_ylim(0, 1.1)\n",
    "    ax.set_xlim(-2.5, 2.5)\n",
    "    ax.set_title(t)\n",
    "    barchart = ax.bar(np.arange(5) - 2, d, align='center')\n",
    "    plt.show()\n"
   ]
  }
 ],
 "metadata": {
  "kernelspec": {
   "display_name": "Python 2",
   "language": "python",
   "name": "python2"
  },
  "language_info": {
   "codemirror_mode": {
    "name": "ipython",
    "version": 2
   },
   "file_extension": ".py",
   "mimetype": "text/x-python",
   "name": "python",
   "nbconvert_exporter": "python",
   "pygments_lexer": "ipython2",
   "version": "2.7.10"
  }
 },
 "nbformat": 4,
 "nbformat_minor": 0
}

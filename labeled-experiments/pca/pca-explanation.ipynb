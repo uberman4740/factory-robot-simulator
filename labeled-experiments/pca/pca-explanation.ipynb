{
 "cells": [
  {
   "cell_type": "code",
   "execution_count": null,
   "metadata": {
    "collapsed": true
   },
   "outputs": [],
   "source": [
    "%matplotlib inline"
   ]
  },
  {
   "cell_type": "code",
   "execution_count": null,
   "metadata": {
    "collapsed": false
   },
   "outputs": [],
   "source": [
    "import numpy as np\n",
    "import sklearn\n",
    "from sklearn.decomposition import PCA\n",
    "import matplotlib.pyplot as plt\n",
    "import scipy.misc\n",
    "import time"
   ]
  },
  {
   "cell_type": "markdown",
   "metadata": {},
   "source": [
    "### Generate data "
   ]
  },
  {
   "cell_type": "code",
   "execution_count": null,
   "metadata": {
    "collapsed": true
   },
   "outputs": [],
   "source": [
    "data = np.random.multivariate_normal([0.5, 0.5], \n",
    "                                     np.array([[1.0, 0.8],\n",
    "                                               [0.8, 1.0]]),\n",
    "                                     size=10)"
   ]
  },
  {
   "cell_type": "markdown",
   "metadata": {},
   "source": [
    "#### Fit PCA "
   ]
  },
  {
   "cell_type": "code",
   "execution_count": null,
   "metadata": {
    "collapsed": false
   },
   "outputs": [],
   "source": [
    "n_components = 1\n",
    "pca = PCA(n_components=n_components)"
   ]
  },
  {
   "cell_type": "code",
   "execution_count": null,
   "metadata": {
    "collapsed": false
   },
   "outputs": [],
   "source": [
    "start_time = time.time()\n",
    "pca.fit(data)\n",
    "\n",
    "print 'elapsed time: %f s' % (time.time() - start_time)"
   ]
  },
  {
   "cell_type": "code",
   "execution_count": null,
   "metadata": {
    "collapsed": false
   },
   "outputs": [],
   "source": [
    "transformed_data = pca.inverse_transform(pca.transform(data))"
   ]
  },
  {
   "cell_type": "code",
   "execution_count": null,
   "metadata": {
    "collapsed": false
   },
   "outputs": [],
   "source": [
    "def plot_data(plot_orig, plot_transformed, viz_line, draw_arrows):\n",
    "    fig = plt.figure(figsize=(5, 5))\n",
    "    ax_l = fig.add_subplot(111)\n",
    "\n",
    "    ax_l.set_xlim(-2, 4)\n",
    "    ax_l.set_ylim(-2, 4)\n",
    "\n",
    "    if viz_line:\n",
    "        viz_points = np.asarray([pca.inverse_transform([-10]), pca.inverse_transform([10])])\n",
    "        ax_l.plot(viz_points[:,0], viz_points[:, 1], color='#aaaaaa')\n",
    "\n",
    "\n",
    "    if plot_orig:\n",
    "        ax_l.scatter(data[:,0], data[:, 1])\n",
    "    \n",
    "    if plot_transformed:\n",
    "        ax_l.scatter(transformed_data[:, 0], transformed_data[:, 1], color='#dd3311')\n",
    "\n",
    "    if draw_arrows:\n",
    "        for orig, trans in zip(data, transformed_data):\n",
    "            ax_l.arrow(orig[0], orig[1], \n",
    "                       (trans[0]-orig[0]), \n",
    "                       (trans[1]-orig[1]), head_width=0.03, head_length=0.05, fc='k', ec='k', length_includes_head=True)\n",
    "    fig.savefig('../../plots/pca_explanation' \\\n",
    "                + str(plot_orig) + str(plot_transformed) \\\n",
    "                + str(viz_line) + str(draw_arrows) + '.png')\n",
    "    plt.show()"
   ]
  },
  {
   "cell_type": "code",
   "execution_count": null,
   "metadata": {
    "collapsed": false
   },
   "outputs": [],
   "source": [
    "plot_data(True, False, False, False)\n",
    "# plot_data(True, False, True, False)\n",
    "plot_data(True, False, True, True)\n",
    "plot_data(False, True, False, False)"
   ]
  }
 ],
 "metadata": {
  "kernelspec": {
   "display_name": "Python 2",
   "language": "python",
   "name": "python2"
  },
  "language_info": {
   "codemirror_mode": {
    "name": "ipython",
    "version": 2
   },
   "file_extension": ".py",
   "mimetype": "text/x-python",
   "name": "python",
   "nbconvert_exporter": "python",
   "pygments_lexer": "ipython2",
   "version": "2.7.10"
  }
 },
 "nbformat": 4,
 "nbformat_minor": 0
}

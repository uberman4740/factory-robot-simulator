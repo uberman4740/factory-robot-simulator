{
 "cells": [
  {
   "cell_type": "code",
   "execution_count": null,
   "metadata": {
    "collapsed": true
   },
   "outputs": [],
   "source": [
    "%matplotlib inline"
   ]
  },
  {
   "cell_type": "code",
   "execution_count": null,
   "metadata": {
    "collapsed": true
   },
   "outputs": [],
   "source": [
    "import numpy as np\n",
    "import sklearn\n",
    "from sklearn.decomposition import PCA\n",
    "import matplotlib.pyplot as plt\n",
    "import scipy.misc\n",
    "import time"
   ]
  },
  {
   "cell_type": "code",
   "execution_count": null,
   "metadata": {
    "collapsed": true
   },
   "outputs": [],
   "source": [
    "import pylab\n",
    "pylab.rcParams['figure.figsize'] = (12.0, 12.0)"
   ]
  },
  {
   "cell_type": "markdown",
   "metadata": {},
   "source": [
    "#### Load data. "
   ]
  },
  {
   "cell_type": "code",
   "execution_count": null,
   "metadata": {
    "collapsed": true
   },
   "outputs": [],
   "source": [
    "def load_training_img(index, file_path, file_prefix):\n",
    "    return scipy.misc.imread(file_path + file_prefix + str(index).zfill(6) + '.png')[:,:,:-1]\n",
    "\n",
    "def load_images(lower, upper, file_path, file_prefix):\n",
    "    return np.asarray([load_training_img(i, file_path, file_prefix) \n",
    "                        for i in range(lower, upper)])\n",
    "\n",
    "def normalize_and_flatten(imgs):\n",
    "    return (imgs / 255.0).reshape(imgs.shape[0], imgs.shape[1]*imgs.shape[2]*imgs.shape[3])"
   ]
  },
  {
   "cell_type": "code",
   "execution_count": null,
   "metadata": {
    "collapsed": false
   },
   "outputs": [],
   "source": [
    "file_path_images = '../../TrainingData/LabeledData-2015-09-07/'\n",
    "file_prefix_images = 'capture'\n",
    "n_train = 2000\n",
    "n_test = 20\n",
    "n_images = n_train + n_test \n",
    "images = normalize_and_flatten(load_images(0, n_images, file_path_images, file_prefix_images))\n",
    "\n",
    "train_images = images[:n_train]\n",
    "test_images = images[n_train:]"
   ]
  },
  {
   "cell_type": "markdown",
   "metadata": {},
   "source": [
    "#### Fit PCA "
   ]
  },
  {
   "cell_type": "code",
   "execution_count": null,
   "metadata": {
    "collapsed": false
   },
   "outputs": [],
   "source": [
    "pca = PCA(n_components=100)"
   ]
  },
  {
   "cell_type": "code",
   "execution_count": null,
   "metadata": {
    "collapsed": false
   },
   "outputs": [],
   "source": [
    "start_time = time.time()\n",
    "pca.fit(train_images)\n",
    "\n",
    "print 'elapsed time: %f s' % (time.time() - start_time)"
   ]
  },
  {
   "cell_type": "code",
   "execution_count": null,
   "metadata": {
    "collapsed": true
   },
   "outputs": [],
   "source": [
    "transformed_images = pca.inverse_transform(pca.transform(test_images))\n",
    "transformed_images = np.maximum(0, np.minimum(1, transformed_images))"
   ]
  },
  {
   "cell_type": "code",
   "execution_count": null,
   "metadata": {
    "collapsed": false
   },
   "outputs": [],
   "source": [
    "n_display = 10\n",
    "\n",
    "for image, transformed_image in zip(test_images[:n_display], transformed_images[:n_display]):\n",
    "    f, axarr = plt.subplots(1, 2)\n",
    "    axarr[0].imshow(image.reshape(64, 64, 3), interpolation='nearest')\n",
    "    axarr[1].imshow(transformed_image.reshape(64, 64, 3), interpolation='nearest')\n",
    "    plt.show()"
   ]
  },
  {
   "cell_type": "code",
   "execution_count": null,
   "metadata": {
    "collapsed": false
   },
   "outputs": [],
   "source": [
    "for eigenimage in eigenimages:\n",
    "    plt.imshow(eigenimage.reshape(64, 64, 3), interpolation='nearest')\n",
    "    plt.show()"
   ]
  },
  {
   "cell_type": "code",
   "execution_count": null,
   "metadata": {
    "collapsed": false
   },
   "outputs": [],
   "source": [
    "# plt.imshow(test_images[0].reshape(64, 64, 3), interpolation='nearest')\n",
    "# plt.show()\n",
    "# print pca.transform(test_images[0])\n",
    "\n",
    "# encoding = np.array([[0, 0, 0, 0, 0, 0, 0, 0, 0, 0]])\n",
    "# decoding = pca.inverse_transform(encoding)\n",
    "print plt.imshow(((eigenimages[0] - eigenimages[6])*4 + 0.5).reshape(64, 64, 3), interpolation='nearest')\n"
   ]
  }
 ],
 "metadata": {
  "kernelspec": {
   "display_name": "Python 2",
   "language": "python",
   "name": "python2"
  },
  "language_info": {
   "codemirror_mode": {
    "name": "ipython",
    "version": 2
   },
   "file_extension": ".py",
   "mimetype": "text/x-python",
   "name": "python",
   "nbconvert_exporter": "python",
   "pygments_lexer": "ipython2",
   "version": "2.7.6"
  }
 },
 "nbformat": 4,
 "nbformat_minor": 0
}

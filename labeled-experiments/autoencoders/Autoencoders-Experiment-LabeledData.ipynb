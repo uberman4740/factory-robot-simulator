{
 "cells": [
  {
   "cell_type": "code",
   "execution_count": 1,
   "metadata": {
    "collapsed": false
   },
   "outputs": [],
   "source": [
    "%load_ext autoreload\n",
    "%autoreload 2\n",
    "%matplotlib inline"
   ]
  },
  {
   "cell_type": "code",
   "execution_count": 2,
   "metadata": {
    "collapsed": false
   },
   "outputs": [],
   "source": [
    "from dln_dA import dA\n",
    "import numpy as np\n",
    "from matplotlib import pyplot as plt\n",
    "import theano\n",
    "import theano.tensor as T\n",
    "from theano.tensor.shared_randomstreams import RandomStreams\n",
    "import timeit"
   ]
  },
  {
   "cell_type": "code",
   "execution_count": 3,
   "metadata": {
    "collapsed": false
   },
   "outputs": [],
   "source": [
    "# def make_simple_data(w, h, aw, ah):\n",
    "#     values = np.random.uniform(0.0, 1.0, (ah, aw))\n",
    "#     result = np.zeros((w, h, 3))\n",
    "#     for i in range(ah):\n",
    "#         for j in range(aw):\n",
    "#             result[i*(h/ah):(i+1)*(h/ah), \n",
    "#                    j*(w/aw):(j+1)*(w/aw)] = values[i, j]\n",
    "#     return result\n",
    "\n",
    "# def make_simple_dataset(w, h, aw, ah, n):\n",
    "#     return np.asarray([make_simple_data(w, h, aw, ah) for i in range(n)], dtype=theano.config.floatX)\n",
    "\n",
    "import scipy.misc\n",
    "def load_training_img(index):\n",
    "    return scipy.misc.imread('../../TrainingData/LabeledData/capture' + str(index).zfill(6) + '.png')[:,:,:-1]\n",
    "\n",
    "def load_images(lower, upper):\n",
    "    return np.asarray([load_training_img(i) for i in range(lower, upper)])\n",
    "\n",
    "def normalize_and_flatten(imgs):\n",
    "    return (imgs / 255.0).reshape(imgs.shape[0], imgs.shape[1]*imgs.shape[2]*imgs.shape[3])\n",
    "\n",
    "# print normalize_and_flatten(load_images(1,3))"
   ]
  },
  {
   "cell_type": "code",
   "execution_count": 4,
   "metadata": {
    "collapsed": false
   },
   "outputs": [],
   "source": [
    "tr_ex_start_index = 0\n",
    "n_training_examples = 1000\n",
    "\n",
    "training_data = normalize_and_flatten(load_images(tr_ex_start_index, tr_ex_start_index+n_training_examples))\n",
    "\n",
    "trainig_data = np.asarray(training_data, dtype=theano.config.floatX)\n",
    "train_set_x = theano.shared(training_data, name='train', borrow=True)"
   ]
  },
  {
   "cell_type": "code",
   "execution_count": 8,
   "metadata": {
    "collapsed": true
   },
   "outputs": [],
   "source": [
    "learning_rate = 10\n",
    "batch_size = 10\n",
    "training_epochs = 200\n",
    "n_train_batches = n_training_examples/batch_size\n",
    "\n",
    "h=64\n",
    "w=64\n",
    "colors=3\n",
    "hidden_units=100"
   ]
  },
  {
   "cell_type": "code",
   "execution_count": 9,
   "metadata": {
    "collapsed": false
   },
   "outputs": [],
   "source": [
    "# allocate symbolic variables for the data\n",
    "index = T.lscalar()    # index to a [mini]batch\n",
    "x = T.matrix('x')  # the data is presented as rasterized images\n",
    "\n",
    "rng = np.random.RandomState(123)\n",
    "theano_rng = RandomStreams(rng.randint(2 ** 30))\n",
    "\n",
    "da = dA(\n",
    "    numpy_rng=rng,\n",
    "    theano_rng=theano_rng,\n",
    "    input=x,\n",
    "    n_visible=h*w*colors,\n",
    "    n_hidden=hidden_units\n",
    ")\n",
    "\n",
    "cost, updates = da.get_cost_updates(\n",
    "    corruption_level=0.0,\n",
    "    learning_rate=learning_rate\n",
    ")\n",
    "\n",
    "train_da = theano.function(\n",
    "    [index],\n",
    "    cost,\n",
    "    updates=updates,\n",
    "    givens={\n",
    "        x: train_set_x[index * batch_size: (index + 1) * batch_size]\n",
    "    }\n",
    ")\n"
   ]
  },
  {
   "cell_type": "code",
   "execution_count": 10,
   "metadata": {
    "collapsed": false
   },
   "outputs": [
    {
     "name": "stdout",
     "output_type": "stream",
     "text": [
      "Training epoch 0, cost  0.0455467033096\n",
      "Training epoch 9, cost  0.0226385261207\n",
      "Training epoch 19, cost  0.0206492301372\n",
      "Training epoch 29, cost  0.0189302815828\n",
      "Training epoch 39, cost  0.0174457055299\n",
      "Training epoch 49, cost  0.0163530968253\n",
      "Training epoch 59, cost  0.0155453615497\n",
      "Training epoch 69, cost  0.0149077012104\n",
      "Training epoch 79, cost  0.0143737975489\n",
      "Training epoch 89, cost  0.0139116958362\n",
      "Training epoch 99, cost  0.0135046459219\n",
      "Training epoch 109, cost  0.0131419122978\n",
      "Training epoch 119, cost  0.012815435164\n",
      "Training epoch 129, cost  0.0125211286191\n",
      "Training epoch 139, cost  0.0122538298587\n",
      "Training epoch 149, cost  0.0120087390215\n",
      "Training epoch 159, cost  0.0117820510566\n",
      "Training epoch 169, cost  0.011571221313\n",
      "Training epoch 179, cost  0.0113735202091\n",
      "Training epoch 189, cost  0.0111870780632\n",
      "Training epoch 199, cost  0.011010215403\n",
      "The code ran for 30.59m\n"
     ]
    }
   ],
   "source": [
    "start_time = timeit.default_timer()\n",
    "\n",
    "############\n",
    "# TRAINING #\n",
    "############\n",
    "\n",
    "# go through training epochs\n",
    "for epoch in xrange(training_epochs):\n",
    "    # go through trainng set\n",
    "    c = []\n",
    "    for batch_index in xrange(n_train_batches):\n",
    "        c.append(train_da(batch_index))\n",
    "\n",
    "    if epoch == 0 or (epoch+1) % 10 == 0:\n",
    "        print 'Training epoch %d, cost ' % epoch, np.mean(c)\n",
    "\n",
    "end_time = timeit.default_timer()\n",
    "\n",
    "training_time = (end_time - start_time)\n",
    "\n",
    "print 'The code ran for %.2fm' % (training_time / 60.)"
   ]
  },
  {
   "cell_type": "code",
   "execution_count": 29,
   "metadata": {
    "collapsed": false
   },
   "outputs": [
    {
     "data": {
      "image/png": "[encoded data removed]",
      "text/plain": [
       "<matplotlib.figure.Figure at 0x7f6481f57f90>"
      ]
     },
     "metadata": {},
     "output_type": "display_data"
    },
    {
     "data": {
      "image/png": "[encoded data removed]",
      "text/plain": [
       "<matplotlib.figure.Figure at 0x7f64760ee690>"
      ]
     },
     "metadata": {},
     "output_type": "display_data"
    }
   ],
   "source": [
    "def make_rgb_from_val(data, w, h):\n",
    "    return np.repeat(batch[index].reshape(h, w), 3).reshape(h, w, 3)\n",
    "\n",
    "batch = training_data[10:10+batch_size]\n",
    "index = 7\n",
    "\n",
    "example_img = batch[index].reshape(h, w, colors)\n",
    "plt.imshow(example_img, interpolation='nearest')\n",
    "plt.show()\n",
    "\n",
    "enc = da.get_reconstructed_input(da.get_hidden_values(da.x))\n",
    "\n",
    "reconstr_batch = enc.eval({da.x: batch})\n",
    "\n",
    "example_recon = reconstr_batch[index].reshape(h, w, colors)\n",
    "plt.imshow(example_recon, interpolation='nearest')\n",
    "plt.show()\n"
   ]
  },
  {
   "cell_type": "code",
   "execution_count": null,
   "metadata": {
    "collapsed": true
   },
   "outputs": [],
   "source": []
  }
 ],
 "metadata": {
  "kernelspec": {
   "display_name": "Python 2",
   "language": "python",
   "name": "python2"
  },
  "language_info": {
   "codemirror_mode": {
    "name": "ipython",
    "version": 2
   },
   "file_extension": ".py",
   "mimetype": "text/x-python",
   "name": "python",
   "nbconvert_exporter": "python",
   "pygments_lexer": "ipython2",
   "version": "2.7.6"
  }
 },
 "nbformat": 4,
 "nbformat_minor": 0
}

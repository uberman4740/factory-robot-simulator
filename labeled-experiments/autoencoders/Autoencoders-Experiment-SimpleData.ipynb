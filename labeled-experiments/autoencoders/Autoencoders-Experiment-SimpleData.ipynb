{
 "cells": [
  {
   "cell_type": "code",
   "execution_count": 9,
   "metadata": {
    "collapsed": false
   },
   "outputs": [
    {
     "name": "stdout",
     "output_type": "stream",
     "text": [
      "The autoreload extension is already loaded. To reload it, use:\n",
      "  %reload_ext autoreload\n"
     ]
    }
   ],
   "source": [
    "%load_ext autoreload\n",
    "%autoreload 2\n",
    "%matplotlib inline"
   ]
  },
  {
   "cell_type": "code",
   "execution_count": 10,
   "metadata": {
    "collapsed": false
   },
   "outputs": [],
   "source": [
    "from dln_dA import dA\n",
    "import numpy as np\n",
    "from matplotlib import pyplot as plt\n",
    "import theano\n",
    "import theano.tensor as T\n",
    "from theano.tensor.shared_randomstreams import RandomStreams\n",
    "import timeit"
   ]
  },
  {
   "cell_type": "code",
   "execution_count": 11,
   "metadata": {
    "collapsed": false
   },
   "outputs": [],
   "source": [
    "def make_simple_data(w, h, aw, ah):\n",
    "    values = np.random.uniform(0.0, 1.0, (ah, aw))\n",
    "    result = np.zeros((w, h, 3))\n",
    "    for i in range(ah):\n",
    "        for j in range(aw):\n",
    "            result[i*(h/ah):(i+1)*(h/ah), \n",
    "                   j*(w/aw):(j+1)*(w/aw)] = values[i, j]\n",
    "    return result\n",
    "\n",
    "def make_simple_dataset(w, h, aw, ah, n):\n",
    "    return np.asarray([make_simple_data(w, h, aw, ah) for i in range(n)], dtype=theano.config.floatX)"
   ]
  },
  {
   "cell_type": "code",
   "execution_count": 12,
   "metadata": {
    "collapsed": false
   },
   "outputs": [],
   "source": [
    "n_training_examples = 1000\n",
    "\n",
    "\n",
    "w = 60\n",
    "h = 60\n",
    "aw = 3\n",
    "ah = 2\n",
    "training_data = make_simple_dataset(w, h, aw, ah, n_training_examples)\n",
    "training_data_flat = training_data.reshape((n_training_examples, w*h, 3))\n",
    "training_data_flat_nocl = np.mean(training_data_flat, axis=2)\n",
    "\n",
    "# print training_data\n",
    "# print '--------'\n",
    "# print training_data_flat\n",
    "# print '--------'\n",
    "# print training_data_flat_nocl\n",
    "\n",
    "train_set_x = theano.shared(training_data_flat_nocl, name='train', borrow=True)"
   ]
  },
  {
   "cell_type": "code",
   "execution_count": 13,
   "metadata": {
    "collapsed": true
   },
   "outputs": [],
   "source": [
    "learning_rate = 10\n",
    "batch_size = 10\n",
    "training_epochs = 1000\n",
    "n_train_batches = n_training_examples/batch_size\n",
    "\n",
    "hidden_units=aw*ah"
   ]
  },
  {
   "cell_type": "code",
   "execution_count": 14,
   "metadata": {
    "collapsed": false
   },
   "outputs": [],
   "source": [
    "# allocate symbolic variables for the data\n",
    "index = T.lscalar()    # index to a [mini]batch\n",
    "x = T.matrix('x')  # the data is presented as rasterized images\n",
    "\n",
    "rng = np.random.RandomState(123)\n",
    "theano_rng = RandomStreams(rng.randint(2 ** 30))\n",
    "\n",
    "da = dA(\n",
    "    numpy_rng=rng,\n",
    "    theano_rng=theano_rng,\n",
    "    input=x,\n",
    "    n_visible=h*w,\n",
    "    n_hidden=hidden_units\n",
    ")\n",
    "\n",
    "cost, updates = da.get_cost_updates(\n",
    "    corruption_level=0.0,\n",
    "    learning_rate=learning_rate\n",
    ")\n",
    "\n",
    "train_da = theano.function(\n",
    "    [index],\n",
    "    cost,\n",
    "    updates=updates,\n",
    "    givens={\n",
    "        x: train_set_x[index * batch_size: (index + 1) * batch_size]\n",
    "    }\n",
    ")\n"
   ]
  },
  {
   "cell_type": "code",
   "execution_count": 19,
   "metadata": {
    "collapsed": false
   },
   "outputs": [
    {
     "name": "stdout",
     "output_type": "stream",
     "text": [
      "Training epoch 0, cost  0.0237178664954\n",
      "Training epoch 9, cost  0.0233875206723\n",
      "Training epoch 19, cost  0.0236041817629\n",
      "Training epoch 29, cost  0.023154544709\n",
      "Training epoch 39, cost  0.0230297159032\n",
      "Training epoch 49, cost  0.0228733745674\n",
      "Training epoch 59, cost  0.0233443821382\n",
      "Training epoch 69, cost  0.0226870063157\n",
      "Training epoch 79, cost  0.0227045802331\n",
      "Training epoch 89, cost  0.0225950177884\n",
      "Training epoch 99, cost  0.0226076694951\n",
      "Training epoch 109, cost  0.0224557237241\n",
      "Training epoch 119, cost  0.0226844181496\n",
      "Training epoch 129, cost  0.022135404636\n",
      "Training epoch 139, cost  0.0223806293276\n",
      "Training epoch 149, cost  0.0224702362914\n",
      "Training epoch 159, cost  0.0224602841626\n",
      "Training epoch 169, cost  0.0219957221954\n",
      "Training epoch 179, cost  0.0220480877455\n",
      "Training epoch 189, cost  0.0219698000461\n",
      "Training epoch 199, cost  0.0215775126529\n",
      "Training epoch 209, cost  0.0216706909918\n",
      "Training epoch 219, cost  0.0219177230036\n",
      "Training epoch 229, cost  0.0217103664314\n",
      "Training epoch 239, cost  0.0215279380296\n",
      "Training epoch 249, cost  0.0217997521533\n",
      "Training epoch 259, cost  0.0219893684181\n",
      "Training epoch 269, cost  0.0218143873183\n",
      "Training epoch 279, cost  0.0216708017984\n",
      "Training epoch 289, cost  0.0214331871034\n",
      "Training epoch 299, cost  0.0218149650485\n",
      "Training epoch 309, cost  0.0211421712009\n",
      "Training epoch 319, cost  0.0216498694377\n",
      "Training epoch 329, cost  0.0216310106731\n",
      "Training epoch 339, cost  0.0210842885241\n",
      "Training epoch 349, cost  0.0216266159024\n",
      "Training epoch 359, cost  0.0216641502028\n",
      "Training epoch 369, cost  0.0212198028069\n",
      "Training epoch 379, cost  0.0215313118853\n",
      "Training epoch 389, cost  0.0214932154925\n",
      "Training epoch 399, cost  0.0209651017426\n",
      "Training epoch 409, cost  0.0217248561366\n",
      "Training epoch 419, cost  0.0208930847002\n",
      "Training epoch 429, cost  0.0212673985344\n",
      "Training epoch 439, cost  0.0212724220122\n",
      "Training epoch 449, cost  0.0210517395003\n",
      "Training epoch 459, cost  0.0207844356676\n",
      "Training epoch 469, cost  0.0208817214737\n",
      "Training epoch 479, cost  0.0211682775274\n",
      "Training epoch 489, cost  0.0215185849499\n",
      "Training epoch 499, cost  0.021358249466\n",
      "Training epoch 509, cost  0.021073317284\n",
      "Training epoch 519, cost  0.0208403409432\n",
      "Training epoch 529, cost  0.021060821152\n",
      "Training epoch 539, cost  0.0211903369534\n",
      "Training epoch 549, cost  0.0208741332934\n",
      "Training epoch 559, cost  0.0206124503657\n",
      "Training epoch 569, cost  0.021077048467\n",
      "Training epoch 579, cost  0.02109871794\n",
      "Training epoch 589, cost  0.0208084655236\n",
      "Training epoch 599, cost  0.0208847350939\n",
      "Training epoch 609, cost  0.020834428482\n",
      "Training epoch 619, cost  0.0208291156684\n",
      "Training epoch 629, cost  0.0209722728557\n",
      "Training epoch 639, cost  0.0208900561327\n",
      "Training epoch 649, cost  0.02106556353\n",
      "Training epoch 659, cost  0.0210880797289\n",
      "Training epoch 669, cost  0.0216143582464\n",
      "Training epoch 679, cost  0.0208846958319\n",
      "Training epoch 689, cost  0.0207477187478\n",
      "Training epoch 699, cost  0.0208889179059\n",
      "Training epoch 709, cost  0.0209009446952\n",
      "Training epoch 719, cost  0.0205630269142\n",
      "Training epoch 729, cost  0.020901672775\n",
      "Training epoch 739, cost  0.0210656380866\n",
      "Training epoch 749, cost  0.0209355833679\n",
      "Training epoch 759, cost  0.0206426028154\n",
      "Training epoch 769, cost  0.0207690847116\n",
      "Training epoch 779, cost  0.0208248179486\n",
      "Training epoch 789, cost  0.0207082180153\n",
      "Training epoch 799, cost  0.0208288461504\n",
      "Training epoch 809, cost  0.020734912571\n",
      "Training epoch 819, cost  0.0208272950688\n",
      "Training epoch 829, cost  0.0206356319966\n",
      "Training epoch 839, cost  0.020730500397\n",
      "Training epoch 849, cost  0.0204514931838\n",
      "Training epoch 859, cost  0.0209231954928\n",
      "Training epoch 869, cost  0.0208508874886\n",
      "Training epoch 879, cost  0.0209004014573\n",
      "Training epoch 889, cost  0.0205837991749\n",
      "Training epoch 899, cost  0.0209730784293\n",
      "Training epoch 909, cost  0.0203212805623\n",
      "Training epoch 919, cost  0.0208562827329\n",
      "Training epoch 929, cost  0.0204454415153\n",
      "Training epoch 939, cost  0.0207578135688\n",
      "Training epoch 949, cost  0.0205810695027\n",
      "Training epoch 959, cost  0.0204647485236\n",
      "Training epoch 969, cost  0.0203385217426\n",
      "Training epoch 979, cost  0.0206279532904\n",
      "Training epoch 989, cost  0.020339569913\n",
      "Training epoch 999, cost  0.0207654303394\n",
      "The code ran for 6.78m\n"
     ]
    }
   ],
   "source": [
    "start_time = timeit.default_timer()\n",
    "\n",
    "############\n",
    "# TRAINING #\n",
    "############\n",
    "\n",
    "# go through training epochs\n",
    "for epoch in xrange(training_epochs):\n",
    "    # go through trainng set\n",
    "    c = []\n",
    "    for batch_index in xrange(n_train_batches):\n",
    "        c.append(train_da(batch_index))\n",
    "\n",
    "    if epoch == 0 or (epoch+1) % 10 == 0:\n",
    "        print 'Training epoch %d, cost ' % epoch, np.mean(c)\n",
    "\n",
    "end_time = timeit.default_timer()\n",
    "\n",
    "training_time = (end_time - start_time)\n",
    "\n",
    "print 'The code ran for %.2fm' % (training_time / 60.)"
   ]
  },
  {
   "cell_type": "code",
   "execution_count": 20,
   "metadata": {
    "collapsed": false
   },
   "outputs": [
    {
     "data": {
      "image/png": "[encoded data removed]",
      "text/plain": [
       "<matplotlib.figure.Figure at 0x7f29085a9e90>"
      ]
     },
     "metadata": {},
     "output_type": "display_data"
    },
    {
     "data": {
      "image/png": "[encoded data removed]",
      "text/plain": [
       "<matplotlib.figure.Figure at 0x7f2911bceb90>"
      ]
     },
     "metadata": {},
     "output_type": "display_data"
    }
   ],
   "source": [
    "def make_rgb_from_val(data, w, h):\n",
    "    return np.repeat(batch[index].reshape(h, w), 3).reshape(h, w, 3)\n",
    "\n",
    "batch = training_data_flat_nocl[0:batch_size]\n",
    "index = 4\n",
    "\n",
    "example_img = np.repeat(batch[index].reshape(h, w), 3).reshape(h, w, 3)\n",
    "plt.imshow(example_img, interpolation='nearest')\n",
    "plt.show()\n",
    "\n",
    "enc = da.get_reconstructed_input(da.get_hidden_values(da.x))\n",
    "\n",
    "reconstr_batch = enc.eval({da.x: batch})\n",
    "\n",
    "example_recon = np.repeat(reconstr_batch[index].reshape(h, w), 3).reshape(h, w, 3)\n",
    "plt.imshow(example_recon, interpolation='nearest')\n",
    "plt.show()\n"
   ]
  },
  {
   "cell_type": "code",
   "execution_count": null,
   "metadata": {
    "collapsed": true
   },
   "outputs": [],
   "source": []
  }
 ],
 "metadata": {
  "kernelspec": {
   "display_name": "Python 2",
   "language": "python",
   "name": "python2"
  },
  "language_info": {
   "codemirror_mode": {
    "name": "ipython",
    "version": 2
   },
   "file_extension": ".py",
   "mimetype": "text/x-python",
   "name": "python",
   "nbconvert_exporter": "python",
   "pygments_lexer": "ipython2",
   "version": "2.7.6"
  }
 },
 "nbformat": 4,
 "nbformat_minor": 0
}

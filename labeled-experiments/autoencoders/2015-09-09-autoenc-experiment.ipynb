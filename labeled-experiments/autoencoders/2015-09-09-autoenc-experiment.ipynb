{
 "cells": [
  {
   "cell_type": "code",
   "execution_count": 1,
   "metadata": {
    "collapsed": false
   },
   "outputs": [],
   "source": [
    "%load_ext autoreload\n",
    "%autoreload 2\n",
    "%matplotlib inline"
   ]
  },
  {
   "cell_type": "code",
   "execution_count": 2,
   "metadata": {
    "collapsed": true
   },
   "outputs": [],
   "source": [
    "import sys\n",
    "import os\n",
    "sys.path.append(os.path.abspath('../nn-classifiers/'))"
   ]
  },
  {
   "cell_type": "code",
   "execution_count": 3,
   "metadata": {
    "collapsed": false
   },
   "outputs": [
    {
     "name": "stdout",
     "output_type": "stream",
     "text": [
      "Running with a CPU.  If this is not desired, then the modify network3.py to set\n",
      "the GPU flag to True.\n"
     ]
    }
   ],
   "source": [
    "import labeling_network as lbln\n",
    "from matplotlib import pyplot as plt\n",
    "import theano\n",
    "import theano.tensor as T\n",
    "import numpy as np\n",
    "from labeling_network import FullyConnectedLayer, ConvPoolLayer"
   ]
  },
  {
   "cell_type": "code",
   "execution_count": 15,
   "metadata": {
    "collapsed": true
   },
   "outputs": [],
   "source": [
    "import pylab\n",
    "pylab.rcParams['figure.figsize'] = (6.0, 6.0)"
   ]
  },
  {
   "cell_type": "code",
   "execution_count": 4,
   "metadata": {
    "collapsed": true
   },
   "outputs": [],
   "source": [
    "dataPath = '../../TrainingData/LabeledData-2015-09-07/'"
   ]
  },
  {
   "cell_type": "code",
   "execution_count": 100,
   "metadata": {
    "collapsed": false
   },
   "outputs": [],
   "source": [
    "train_data, valid_data, test_data = lbln.load_data_shared(\n",
    "                     dataPath,\n",
    "                     'capture',\n",
    "                     dataPath + 'labels.dat',\n",
    "                     n_train=10,\n",
    "                     n_validation=10,\n",
    "                     n_test=10,\n",
    "                     label_mask=1)\n",
    "\n",
    "# Modify data tuples for autoencoder learning. Target output = input.\n",
    "train_data = train_data[0], train_data[0]\n",
    "valid_data = valid_data[0], valid_data[0]\n",
    "test_data = test_data[0], test_data[0]"
   ]
  },
  {
   "cell_type": "code",
   "execution_count": 101,
   "metadata": {
    "collapsed": true
   },
   "outputs": [],
   "source": [
    "mini_batch_size = 10"
   ]
  },
  {
   "cell_type": "markdown",
   "metadata": {},
   "source": [
    "### Train the Network. "
   ]
  },
  {
   "cell_type": "code",
   "execution_count": 121,
   "metadata": {
    "collapsed": false
   },
   "outputs": [],
   "source": [
    "network = lbln.Network([\n",
    "\n",
    "        FullyConnectedLayer(n_in=64*64*3, n_out=500, p_dropout=0.5),\n",
    "        FullyConnectedLayer(n_in=500, n_out=64*64*3),\n",
    "        \n",
    "    ], mini_batch_size)"
   ]
  },
  {
   "cell_type": "code",
   "execution_count": 122,
   "metadata": {
    "collapsed": false
   },
   "outputs": [
    {
     "name": "stdout",
     "output_type": "stream",
     "text": [
      "--- Training mini-batch number 0 ---\n",
      "  Epoch 0: validation accuracy -0.048516\n",
      "    This is the best validation accuracy to date.\n",
      "      The corresponding test accuracy is -0.051503\n",
      "    Current cost on training set: 0.0479948274648\n",
      "  Epoch 1: validation accuracy -0.047428\n",
      "    This is the best validation accuracy to date.\n",
      "      The corresponding test accuracy is -0.050682\n",
      "    Current cost on training set: 0.0464984791182\n",
      "  Epoch 2: validation accuracy -0.046415\n",
      "    This is the best validation accuracy to date.\n",
      "      The corresponding test accuracy is -0.04993\n",
      "    Current cost on training set: 0.045180508325\n",
      "  Epoch 3: validation accuracy -0.045428\n",
      "    This is the best validation accuracy to date.\n",
      "      The corresponding test accuracy is -0.049209\n",
      "    Current cost on training set: 0.0439320469854\n",
      "  Epoch 4: validation accuracy -0.044439\n",
      "    This is the best validation accuracy to date.\n",
      "      The corresponding test accuracy is -0.048496\n",
      "    Current cost on training set: 0.0426857530062\n",
      "  Epoch 5: validation accuracy -0.043425\n",
      "    This is the best validation accuracy to date.\n",
      "      The corresponding test accuracy is -0.047774\n",
      "    Current cost on training set: 0.0414416540788\n",
      "  Epoch 6: validation accuracy -0.042382\n",
      "    This is the best validation accuracy to date.\n",
      "      The corresponding test accuracy is -0.047041\n",
      "    Current cost on training set: 0.0401733008905\n",
      "  Epoch 7: validation accuracy -0.04132\n",
      "    This is the best validation accuracy to date.\n",
      "      The corresponding test accuracy is -0.046306\n",
      "    Current cost on training set: 0.0388582195566\n",
      "  Epoch 8: validation accuracy -0.040248\n",
      "    This is the best validation accuracy to date.\n",
      "      The corresponding test accuracy is -0.045575\n",
      "    Current cost on training set: 0.0374554467613\n",
      "  Epoch 9: validation accuracy -0.03919\n",
      "    This is the best validation accuracy to date.\n",
      "      The corresponding test accuracy is -0.044868\n",
      "    Current cost on training set: 0.0360760859897\n",
      "  Epoch 10: validation accuracy -0.038167\n",
      "    This is the best validation accuracy to date.\n",
      "      The corresponding test accuracy is -0.044201\n",
      "    Current cost on training set: 0.034659330693\n",
      "  Epoch 11: validation accuracy -0.037201\n",
      "    This is the best validation accuracy to date.\n",
      "      The corresponding test accuracy is -0.043588\n",
      "    Current cost on training set: 0.0333340055692\n",
      "  Epoch 12: validation accuracy -0.036309\n",
      "    This is the best validation accuracy to date.\n",
      "      The corresponding test accuracy is -0.043041\n",
      "    Current cost on training set: 0.0319984337241\n",
      "  Epoch 13: validation accuracy -0.0355\n",
      "    This is the best validation accuracy to date.\n",
      "      The corresponding test accuracy is -0.042565\n",
      "    Current cost on training set: 0.0307467505053\n",
      "  Epoch 14: validation accuracy -0.034779\n",
      "    This is the best validation accuracy to date.\n",
      "      The corresponding test accuracy is -0.042162\n",
      "    Current cost on training set: 0.0296437544682\n",
      "  Epoch 15: validation accuracy -0.034148\n",
      "    This is the best validation accuracy to date.\n",
      "      The corresponding test accuracy is -0.04183\n",
      "    Current cost on training set: 0.0285488675811\n",
      "  Epoch 16: validation accuracy -0.033601\n",
      "    This is the best validation accuracy to date.\n",
      "      The corresponding test accuracy is -0.041564\n",
      "    Current cost on training set: 0.0276260995101\n",
      "  Epoch 17: validation accuracy -0.033133\n",
      "    This is the best validation accuracy to date.\n",
      "      The corresponding test accuracy is -0.041357\n",
      "    Current cost on training set: 0.0268224215111\n",
      "  Epoch 18: validation accuracy -0.032738\n",
      "    This is the best validation accuracy to date.\n",
      "      The corresponding test accuracy is -0.041203\n",
      "    Current cost on training set: 0.0260298694091\n",
      "  Epoch 19: validation accuracy -0.032404\n",
      "    This is the best validation accuracy to date.\n",
      "      The corresponding test accuracy is -0.041093\n",
      "    Current cost on training set: 0.0253749820902\n",
      "  Epoch 20: validation accuracy -0.032126\n",
      "    This is the best validation accuracy to date.\n",
      "      The corresponding test accuracy is -0.041021\n",
      "    Current cost on training set: 0.0248351389426\n",
      "  Epoch 21: validation accuracy -0.031897\n",
      "    This is the best validation accuracy to date.\n",
      "      The corresponding test accuracy is -0.040981\n",
      "    Current cost on training set: 0.0243285478358\n",
      "  Epoch 22: validation accuracy -0.031708\n",
      "    This is the best validation accuracy to date.\n",
      "      The corresponding test accuracy is -0.040967\n",
      "    Current cost on training set: 0.0239059817496\n",
      "  Epoch 23: validation accuracy -0.031553\n",
      "    This is the best validation accuracy to date.\n",
      "      The corresponding test accuracy is -0.040973\n",
      "    Current cost on training set: 0.0235087355398\n",
      "  Epoch 24: validation accuracy -0.031428\n",
      "    This is the best validation accuracy to date.\n",
      "      The corresponding test accuracy is -0.040997\n",
      "    Current cost on training set: 0.0231784732281\n",
      "  Epoch 25: validation accuracy -0.031327\n",
      "    This is the best validation accuracy to date.\n",
      "      The corresponding test accuracy is -0.041033\n",
      "    Current cost on training set: 0.0229032658555\n",
      "  Epoch 26: validation accuracy -0.031246\n",
      "    This is the best validation accuracy to date.\n",
      "      The corresponding test accuracy is -0.04108\n",
      "    Current cost on training set: 0.0226484627201\n",
      "  Epoch 27: validation accuracy -0.031183\n",
      "    This is the best validation accuracy to date.\n",
      "      The corresponding test accuracy is -0.041135\n",
      "    Current cost on training set: 0.0224335581755\n",
      "  Epoch 28: validation accuracy -0.031133\n",
      "    This is the best validation accuracy to date.\n",
      "      The corresponding test accuracy is -0.041196\n",
      "    Current cost on training set: 0.0222576190747\n",
      "  Epoch 29: validation accuracy -0.031095\n",
      "    This is the best validation accuracy to date.\n",
      "      The corresponding test accuracy is -0.04126\n",
      "    Current cost on training set: 0.0220721996843\n",
      "  Epoch 30: validation accuracy -0.031067\n",
      "    This is the best validation accuracy to date.\n",
      "      The corresponding test accuracy is -0.041327\n",
      "    Current cost on training set: 0.0219220330197\n",
      "  Epoch 31: validation accuracy -0.031047\n",
      "    This is the best validation accuracy to date.\n",
      "      The corresponding test accuracy is -0.041395\n",
      "    Current cost on training set: 0.021800453157\n",
      "  Epoch 32: validation accuracy -0.031033\n",
      "    This is the best validation accuracy to date.\n",
      "      The corresponding test accuracy is -0.041463\n",
      "    Current cost on training set: 0.0217044013518\n",
      "  Epoch 33: validation accuracy -0.031024\n",
      "    This is the best validation accuracy to date.\n",
      "      The corresponding test accuracy is -0.041531\n",
      "    Current cost on training set: 0.0215787036423\n",
      "  Epoch 34: validation accuracy -0.031019\n",
      "    This is the best validation accuracy to date.\n",
      "      The corresponding test accuracy is -0.041599\n",
      "    Current cost on training set: 0.0214945277316\n",
      "  Epoch 35: validation accuracy -0.031019\n",
      "    This is the best validation accuracy to date.\n",
      "      The corresponding test accuracy is -0.041667\n",
      "    Current cost on training set: 0.0214432187541\n",
      "  Epoch 36: validation accuracy -0.03102\n",
      "    Current cost on training set: 0.0213624577668\n",
      "  Epoch 37: validation accuracy -0.031024\n",
      "    Current cost on training set: 0.0213167888877\n",
      "  Epoch 38: validation accuracy -0.031029\n",
      "    Current cost on training set: 0.0212344228478\n",
      "  Epoch 39: validation accuracy -0.031036\n",
      "    Current cost on training set: 0.0212190812978\n",
      "  Epoch 40: validation accuracy -0.031043\n",
      "    Current cost on training set: 0.0211579262603\n",
      "  Epoch 41: validation accuracy -0.031052\n",
      "    Current cost on training set: 0.0211196651771\n",
      "  Epoch 42: validation accuracy -0.031061\n",
      "    Current cost on training set: 0.0210665277694\n",
      "  Epoch 43: validation accuracy -0.03107\n",
      "    Current cost on training set: 0.021042166779\n",
      "  Epoch 44: validation accuracy -0.031078\n",
      "    Current cost on training set: 0.021007920925\n",
      "  Epoch 45: validation accuracy -0.031087\n",
      "    Current cost on training set: 0.0209833342789\n",
      "  Epoch 46: validation accuracy -0.031097\n",
      "    Current cost on training set: 0.0209906801128\n",
      "  Epoch 47: validation accuracy -0.031106\n",
      "    Current cost on training set: 0.0209539609937\n",
      "  Epoch 48: validation accuracy -0.031114\n",
      "    Current cost on training set: 0.0209292610686\n",
      "  Epoch 49: validation accuracy -0.031123\n",
      "Finished training network.\n",
      "Best validation accuracy of -0.031019 obtained at iteration 35\n",
      "Corresponding test accuracy of -0.041667\n"
     ]
    }
   ],
   "source": [
    "network.SGD(train_data, \n",
    "            50, \n",
    "            mini_batch_size, \n",
    "            20.0, \n",
    "            valid_data, \n",
    "            test_data,\n",
    "            \"one_layer_simple_ac\"\n",
    "           )"
   ]
  },
  {
   "cell_type": "markdown",
   "metadata": {},
   "source": [
    "#### Save network weights."
   ]
  },
  {
   "cell_type": "code",
   "execution_count": null,
   "metadata": {
    "collapsed": true
   },
   "outputs": [],
   "source": [
    "network.save_as_file('ac')"
   ]
  },
  {
   "cell_type": "code",
   "execution_count": 112,
   "metadata": {
    "collapsed": false
   },
   "outputs": [],
   "source": [
    "train_data_xs = train_data[0].get_value()\n",
    "train_data_ts = train_data[1].get_value()\n",
    "\n",
    "test_data_xs = test_data[0].get_value()\n",
    "test_data_ts = test_data[1].get_value()\n",
    "\n",
    "valid_data_xs = valid_data[0].get_value()\n",
    "valid_data_ts = valid_data[1].get_value()"
   ]
  },
  {
   "cell_type": "code",
   "execution_count": 123,
   "metadata": {
    "collapsed": false
   },
   "outputs": [
    {
     "name": "stdout",
     "output_type": "stream",
     "text": [
      "0.0114990140489\n",
      "0.0417339810209\n",
      "mean: 0.575974392361\n",
      "sq diff: 0.0328785747569\n"
     ]
    },
    {
     "data": {
      "image/png": "[encoded data removed]",
      "text/plain": [
       "<matplotlib.figure.Figure at 0x7f28c5035bd0>"
      ]
     },
     "metadata": {},
     "output_type": "display_data"
    },
    {
     "data": {
      "image/png": "[encoded data removed]",
      "text/plain": [
       "<matplotlib.figure.Figure at 0x7f28c4ea0ed0>"
      ]
     },
     "metadata": {},
     "output_type": "display_data"
    }
   ],
   "source": [
    "index = 5\n",
    "inpt = train_data_xs[index]\n",
    "output = network.get_single_output(inpt)\n",
    "print np.mean((output - inpt) ** 2)\n",
    "\n",
    "randomout = np.zeros(inpt.shape) + 0.5\n",
    "\n",
    "print np.mean((randomout - inpt) ** 2)\n",
    "\n",
    "\n",
    "print 'mean:', np.mean(train_data_xs)\n",
    "print 'sq diff:', np.mean((inpt - np.mean(train_data_xs)) ** 2)\n",
    "\n",
    "plt.imshow(inpt.reshape((64, 64, 3)), interpolation='nearest')\n",
    "plt.show()\n",
    "plt.imshow(output.reshape((64, 64, 3)), interpolation='nearest')\n",
    "plt.show()"
   ]
  }
 ],
 "metadata": {
  "kernelspec": {
   "display_name": "Python 2",
   "language": "python",
   "name": "python2"
  },
  "language_info": {
   "codemirror_mode": {
    "name": "ipython",
    "version": 2
   },
   "file_extension": ".py",
   "mimetype": "text/x-python",
   "name": "python",
   "nbconvert_exporter": "python",
   "pygments_lexer": "ipython2",
   "version": "2.7.6"
  }
 },
 "nbformat": 4,
 "nbformat_minor": 0
}

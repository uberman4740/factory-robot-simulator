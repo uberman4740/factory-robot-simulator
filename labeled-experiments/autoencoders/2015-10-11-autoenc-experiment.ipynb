{
 "cells": [
  {
   "cell_type": "code",
   "execution_count": null,
   "metadata": {
    "collapsed": false
   },
   "outputs": [],
   "source": [
    "%matplotlib inline"
   ]
  },
  {
   "cell_type": "code",
   "execution_count": null,
   "metadata": {
    "collapsed": true
   },
   "outputs": [],
   "source": [
    "import sys\n",
    "import os\n",
    "sys.path.append(os.path.abspath('../nn-classifiers/'))"
   ]
  },
  {
   "cell_type": "code",
   "execution_count": null,
   "metadata": {
    "collapsed": false
   },
   "outputs": [],
   "source": [
    "import labeling_network as lbln\n",
    "from matplotlib import pyplot as plt\n",
    "import theano\n",
    "import theano.tensor as T\n",
    "import numpy as np\n",
    "from labeling_network import FullyConnectedLayer, ConvPoolLayer"
   ]
  },
  {
   "cell_type": "code",
   "execution_count": null,
   "metadata": {
    "collapsed": true
   },
   "outputs": [],
   "source": [
    "dataPath = '../../../factory-robot-data/imgs_2015-09-28/'"
   ]
  },
  {
   "cell_type": "code",
   "execution_count": null,
   "metadata": {
    "collapsed": false
   },
   "outputs": [],
   "source": [
    "train_data, valid_data, test_data = lbln.load_data_shared(\n",
    "                     dataPath,\n",
    "                     'capture',\n",
    "                     dataPath + 'labels.dat',\n",
    "                     n_train=100,\n",
    "                     n_validation=1000,\n",
    "                     n_test=10,\n",
    "                     label_mask=1)\n",
    "\n",
    "# Modify data tuples for autoencoder learning. Target output = input.\n",
    "train_data = train_data[0], train_data[0]\n",
    "valid_data = valid_data[0], valid_data[0]\n",
    "test_data = test_data[0], test_data[0]"
   ]
  },
  {
   "cell_type": "code",
   "execution_count": null,
   "metadata": {
    "collapsed": true
   },
   "outputs": [],
   "source": [
    "mini_batch_size = 10"
   ]
  },
  {
   "cell_type": "markdown",
   "metadata": {},
   "source": [
    "### Train the Network. "
   ]
  },
  {
   "cell_type": "code",
   "execution_count": null,
   "metadata": {
    "collapsed": false
   },
   "outputs": [],
   "source": [
    "network = lbln.Network([\n",
    "\n",
    "        FullyConnectedLayer(n_in=64*64*3, n_out=32*32, p_dropout=0.0),\n",
    "        FullyConnectedLayer(n_in=32*32, n_out=64, p_dropout=0.0),\n",
    "        FullyConnectedLayer(n_in=64, n_out=64*64*3),\n",
    "        \n",
    "    ], mini_batch_size)"
   ]
  },
  {
   "cell_type": "code",
   "execution_count": null,
   "metadata": {
    "collapsed": false
   },
   "outputs": [],
   "source": [
    "network.SGD(train_data, \n",
    "            40, \n",
    "            mini_batch_size, \n",
    "            10.0, \n",
    "            valid_data, \n",
    "            test_data,\n",
    "            \"one_layer_simple_ac\",\n",
    "#             rmsprop=(0.001, 0.9, 1e-6, 20.0)\n",
    "           )"
   ]
  },
  {
   "cell_type": "markdown",
   "metadata": {},
   "source": [
    "#### Save network weights."
   ]
  },
  {
   "cell_type": "code",
   "execution_count": null,
   "metadata": {
    "collapsed": false
   },
   "outputs": [],
   "source": [
    "network.save_as_file('ac_')"
   ]
  },
  {
   "cell_type": "code",
   "execution_count": null,
   "metadata": {
    "collapsed": false
   },
   "outputs": [],
   "source": [
    "train_data_xs = None #train_data[0].get_value()\n",
    "train_data_ts = None #train_data[1].get_value()\n",
    "\n",
    "test_data_xs = test_data[0].get_value()\n",
    "test_data_ts = test_data[1].get_value()\n",
    "\n",
    "valid_data_xs = valid_data[0].get_value()\n",
    "valid_data_ts = valid_data[1].get_value()"
   ]
  },
  {
   "cell_type": "code",
   "execution_count": null,
   "metadata": {
    "collapsed": false
   },
   "outputs": [],
   "source": [
    "index = 2\n",
    "inpt = test_data_xs[index]\n",
    "output = network.get_single_output(inpt)\n",
    "print 'error:', np.mean((output - inpt) ** 2)\n",
    "\n",
    "# randomout = np.zeros(inpt.shape) + 0.5\n",
    "\n",
    "# print np.mean((randomout - inpt) ** 2)\n",
    "\n",
    "\n",
    "# print 'mean:', np.mean(train_data_xs)\n",
    "# print 'sq diff:', np.mean((inpt - np.mean(train_data_xs)) ** 2)\n",
    "\n",
    "plt.imshow(inpt.reshape((64, 64, 3)), interpolation='nearest')\n",
    "plt.show()\n",
    "plt.imshow(output.reshape((64, 64, 3)), interpolation='nearest')\n",
    "plt.show()"
   ]
  },
  {
   "cell_type": "code",
   "execution_count": null,
   "metadata": {
    "collapsed": false
   },
   "outputs": [],
   "source": [
    "loaded_net = lbln.Network.load_from_file('ac', mini_batch_size)"
   ]
  },
  {
   "cell_type": "code",
   "execution_count": null,
   "metadata": {
    "collapsed": true
   },
   "outputs": [],
   "source": [
    "loaded_net.single_output = loaded_net.layers[-2].single_output"
   ]
  },
  {
   "cell_type": "code",
   "execution_count": null,
   "metadata": {
    "collapsed": false
   },
   "outputs": [],
   "source": [
    "for index in xrange(10):\n",
    "    inpt = test_data_xs[index]\n",
    "    output = loaded_net.get_single_output(inpt)\n",
    "    print 'error:', np.mean((output - inpt) ** 2)\n",
    "\n",
    "    plt.imshow(inpt.reshape((64, 64, 3)), interpolation='nearest')\n",
    "    plt.show()\n",
    "    plt.imshow(output.reshape((64, 64, 3)), interpolation='nearest')\n",
    "    plt.show()\n",
    "\n",
    "    # print output.shape"
   ]
  }
 ],
 "metadata": {
  "kernelspec": {
   "display_name": "Python 2",
   "language": "python",
   "name": "python2"
  },
  "language_info": {
   "codemirror_mode": {
    "name": "ipython",
    "version": 2
   },
   "file_extension": ".py",
   "mimetype": "text/x-python",
   "name": "python",
   "nbconvert_exporter": "python",
   "pygments_lexer": "ipython2",
   "version": "2.7.10"
  }
 },
 "nbformat": 4,
 "nbformat_minor": 0
}

{
 "cells": [
  {
   "cell_type": "code",
   "execution_count": 1,
   "metadata": {
    "collapsed": true
   },
   "outputs": [],
   "source": [
    "import numpy as np\n",
    "import theano\n",
    "import theano.tensor as T"
   ]
  },
  {
   "cell_type": "code",
   "execution_count": 2,
   "metadata": {
    "collapsed": true
   },
   "outputs": [],
   "source": [
    "from blocks.bricks import MLP\n",
    "from blocks.bricks import Rectifier, Logistic\n",
    "from blocks.bricks.cost import SquaredError\n",
    "from blocks.graph import ComputationGraph\n",
    "from blocks.algorithms import GradientDescent, RMSProp\n",
    "from blocks.initialization import Uniform, Constant\n",
    "from blocks.extensions.monitoring import DataStreamMonitoring\n",
    "from blocks.main_loop import MainLoop\n",
    "from blocks.extensions import FinishAfter, Printing\n",
    "\n",
    "from fuel.streams import DataStream\n",
    "from fuel.schemes import SequentialScheme\n",
    "from fuel.transformers import Flatten"
   ]
  },
  {
   "cell_type": "code",
   "execution_count": 3,
   "metadata": {
    "collapsed": true
   },
   "outputs": [],
   "source": [
    "n_inpt = 25\n",
    "n_hidden = 250\n",
    "n_output = 64*64*3\n",
    "mlp = MLP(activations=[Rectifier(), Logistic()],\n",
    "         dims=[n_inpt, n_hidden, n_output],\n",
    "         biases_init=Constant(0))"
   ]
  },
  {
   "cell_type": "code",
   "execution_count": 4,
   "metadata": {
    "collapsed": false
   },
   "outputs": [],
   "source": [
    "mlp.push_initialization_config()\n",
    "mlp.children[0].weights_init = Uniform(\n",
    "    width=8.*np.sqrt(6./(n_inpt+n_hidden))/255.)\n",
    "mlp.children[2].weights_init = Uniform(\n",
    "    width=8.*np.sqrt(6./(n_inpt+n_hidden)))\n",
    "\n",
    "mlp.initialize()"
   ]
  },
  {
   "cell_type": "code",
   "execution_count": 5,
   "metadata": {
    "collapsed": true
   },
   "outputs": [],
   "source": [
    "x = T.matrix('label_features', dtype='floatX')\n",
    "y_hat = mlp.apply(x)\n",
    "y_raw = T.matrix('image_features', dtype='uint8')\n",
    "y = T.cast(y_raw, dtype='floatX') / 255."
   ]
  },
  {
   "cell_type": "code",
   "execution_count": 6,
   "metadata": {
    "collapsed": false
   },
   "outputs": [],
   "source": [
    "cost = SquaredError().apply(y, y_hat)\n",
    "normalized_cost = cost / (64. * 64. * 3.)\n",
    "cg = ComputationGraph(cost)"
   ]
  },
  {
   "cell_type": "code",
   "execution_count": 9,
   "metadata": {
    "collapsed": false
   },
   "outputs": [],
   "source": [
    "from fuel.datasets.hdf5 import H5PYDataset\n",
    "train_set = H5PYDataset('../../../factory-robot-data/factory_dataset.hdf5', \n",
    "                        which_sets=('train',), \n",
    "                        subset=slice(0,5000))\n",
    "\n",
    "test_set = H5PYDataset('../../../factory-robot-data/factory_dataset.hdf5',\n",
    "                       which_sets=('test',))\n",
    "\n",
    "data_stream_train = Flatten(DataStream.default_stream(\n",
    "    train_set,\n",
    "    iteration_scheme=SequentialScheme(train_set.num_examples, \n",
    "                                      batch_size=32)))\n",
    "\n",
    "data_stream_monitor_test = Flatten(DataStream.default_stream(\n",
    "    test_set,\n",
    "    iteration_scheme=SequentialScheme(test_set.num_examples, \n",
    "                                      batch_size=1024)))\n",
    "\n",
    "data_stream_monitor_train = Flatten(DataStream.default_stream(\n",
    "    train_set,\n",
    "    iteration_scheme=SequentialScheme(train_set.num_examples, \n",
    "                                      batch_size=1024)))"
   ]
  },
  {
   "cell_type": "code",
   "execution_count": 10,
   "metadata": {
    "collapsed": false
   },
   "outputs": [],
   "source": [
    "algorithm = GradientDescent(cost=cost, parameters=cg.parameters,\n",
    "                             step_rule=RMSProp(learning_rate=0.1, \n",
    "                                              decay_rate=0.99))"
   ]
  },
  {
   "cell_type": "code",
   "execution_count": 11,
   "metadata": {
    "collapsed": true
   },
   "outputs": [],
   "source": [
    "monitor = DataStreamMonitoring(\n",
    "    variables=[cost], data_stream=data_stream_monitor_test, prefix=\"test\")\n",
    "monitor2 = DataStreamMonitoring(\n",
    "    variables=[cost], data_stream=data_stream_monitor_train, prefix=\"train\")\n"
   ]
  },
  {
   "cell_type": "code",
   "execution_count": 12,
   "metadata": {
    "collapsed": false
   },
   "outputs": [],
   "source": [
    "main_loop = MainLoop(data_stream=data_stream_train, \n",
    "                     algorithm=algorithm,\n",
    "                     extensions=[monitor, \n",
    "                                 monitor2,\n",
    "                                 FinishAfter(after_n_epochs=5), \n",
    "                                 Printing()])"
   ]
  },
  {
   "cell_type": "code",
   "execution_count": 13,
   "metadata": {
    "collapsed": false
   },
   "outputs": [
    {
     "name": "stderr",
     "output_type": "stream",
     "text": [
      "WARNING:blocks.main_loop:Received epoch interrupt signal.\n",
      "\n",
      "Blocks will complete this epoch iteration of training and run extensions before exiting. If you do not want to complete this epoch, press CTRL + C again to stop training after the current batch.\n",
      "WARNING:blocks.main_loop:Received batch interrupt signal.\n",
      "\n",
      "Blocks will complete the current batch and run extensions before exiting. If you do not want to complete this batch, press CTRL + C again. WARNING: Note that this will end training immediately, and extensions that e.g. save your training progress won't be run.\n"
     ]
    },
    {
     "name": "stdout",
     "output_type": "stream",
     "text": [
      "\n",
      "-------------------------------------------------------------------------------\n",
      "BEFORE FIRST EPOCH\n",
      "-------------------------------------------------------------------------------\n",
      "Training status:\n",
      "\t batch_interrupt_received: True\n",
      "\t epoch_interrupt_received: True\n",
      "\t epoch_started: True\n",
      "\t epochs_done: 0\n",
      "\t iterations_done: 0\n",
      "\t received_first_batch: False\n",
      "\t resumed_from: None\n",
      "\t training_started: True\n",
      "Log records from the iteration 0:\n",
      "\t batch_interrupt_received: True\n",
      "\t epoch_interrupt_received: True\n",
      "\t test_squarederror_apply_cost: 546.197271139\n",
      "\t train_squarederror_apply_cost: 548.65998736\n",
      "\n",
      "\n",
      "-------------------------------------------------------------------------------\n",
      "TRAINING HAS BEEN FINISHED:\n",
      "-------------------------------------------------------------------------------\n",
      "Training status:\n",
      "\t batch_interrupt_received: True\n",
      "\t epoch_interrupt_received: True\n",
      "\t epoch_started: True\n",
      "\t epochs_done: 0\n",
      "\t iterations_done: 1\n",
      "\t received_first_batch: True\n",
      "\t resumed_from: None\n",
      "\t training_started: True\n",
      "Log records from the iteration 1:\n",
      "\t training_finished: True\n",
      "\n"
     ]
    }
   ],
   "source": [
    "main_loop.run() "
   ]
  },
  {
   "cell_type": "code",
   "execution_count": null,
   "metadata": {
    "collapsed": true
   },
   "outputs": [],
   "source": []
  },
  {
   "cell_type": "code",
   "execution_count": null,
   "metadata": {
    "collapsed": false
   },
   "outputs": [],
   "source": [
    "epoch = data_stream.get_epoch_iterator()"
   ]
  },
  {
   "cell_type": "code",
   "execution_count": null,
   "metadata": {
    "collapsed": false
   },
   "outputs": [],
   "source": [
    "ex_image, ex_label = next(epoch)\n",
    "\n",
    "cost.eval({x: ex_label, y_raw: ex_image})"
   ]
  },
  {
   "cell_type": "code",
   "execution_count": null,
   "metadata": {
    "collapsed": true
   },
   "outputs": [],
   "source": []
  }
 ],
 "metadata": {
  "kernelspec": {
   "display_name": "Python 2",
   "language": "python",
   "name": "python2"
  },
  "language_info": {
   "codemirror_mode": {
    "name": "ipython",
    "version": 2
   },
   "file_extension": ".py",
   "mimetype": "text/x-python",
   "name": "python",
   "nbconvert_exporter": "python",
   "pygments_lexer": "ipython2",
   "version": "2.7.10"
  }
 },
 "nbformat": 4,
 "nbformat_minor": 0
}

{
 "cells": [
  {
   "cell_type": "code",
   "execution_count": null,
   "metadata": {
    "collapsed": true
   },
   "outputs": [],
   "source": [
    "import numpy as np\n",
    "import theano\n",
    "import theano.tensor as T"
   ]
  },
  {
   "cell_type": "code",
   "execution_count": null,
   "metadata": {
    "collapsed": true
   },
   "outputs": [],
   "source": [
    "from blocks.bricks import MLP\n",
    "from blocks.bricks import Rectifier, Logistic\n",
    "from blocks.bricks.cost import SquaredError\n",
    "from blocks.graph import ComputationGraph\n",
    "from blocks.algorithms import GradientDescent, RMSProp\n",
    "from blocks.initialization import Uniform, Constant\n",
    "from blocks.extensions.monitoring import DataStreamMonitoring\n",
    "from blocks.main_loop import MainLoop\n",
    "from blocks.extensions import FinishAfter, Printing\n",
    "\n",
    "from fuel.streams import DataStream\n",
    "from fuel.schemes import SequentialScheme\n",
    "from fuel.transformers import Flatten"
   ]
  },
  {
   "cell_type": "code",
   "execution_count": null,
   "metadata": {
    "collapsed": true
   },
   "outputs": [],
   "source": [
    "n_inpt = 25\n",
    "n_hidden = 250\n",
    "n_output = 64*64*3\n",
    "mlp = MLP(activations=[Rectifier(), Logistic()],\n",
    "         dims=[n_inpt, n_hidden, n_output],\n",
    "         biases_init=Constant(0))"
   ]
  },
  {
   "cell_type": "code",
   "execution_count": null,
   "metadata": {
    "collapsed": false
   },
   "outputs": [],
   "source": [
    "mlp.push_initialization_config()\n",
    "mlp.children[0].weights_init = Uniform(\n",
    "    width=8.*np.sqrt(6./(n_inpt+n_hidden))/255.)\n",
    "mlp.children[2].weights_init = Uniform(\n",
    "    width=8.*np.sqrt(6./(n_inpt+n_hidden)))\n",
    "\n",
    "mlp.initialize()"
   ]
  },
  {
   "cell_type": "code",
   "execution_count": null,
   "metadata": {
    "collapsed": true
   },
   "outputs": [],
   "source": [
    "x = T.matrix('label_features', dtype='floatX')\n",
    "y_hat = mlp.apply(x)\n",
    "y_raw = T.matrix('image_features', dtype='uint8')\n",
    "y = T.cast(y_raw, dtype='floatX') / 255."
   ]
  },
  {
   "cell_type": "code",
   "execution_count": null,
   "metadata": {
    "collapsed": false
   },
   "outputs": [],
   "source": [
    "cost = SquaredError().apply(y, y_hat)\n",
    "normalized_cost = cost / (64. * 64. * 3.)\n",
    "cg = ComputationGraph(cost)"
   ]
  },
  {
   "cell_type": "code",
   "execution_count": null,
   "metadata": {
    "collapsed": false
   },
   "outputs": [],
   "source": [
    "from fuel.datasets.hdf5 import H5PYDataset\n",
    "train_set = H5PYDataset('factory_dataset.hdf5', \n",
    "                        'train', \n",
    "                        subset=slice(0,5000))\n",
    "\n",
    "test_set = H5PYDataset('factory_dataset.hdf5', \n",
    "                       'test')\n",
    "\n",
    "data_stream_train = Flatten(DataStream.default_stream(\n",
    "    train_set,\n",
    "    iteration_scheme=SequentialScheme(train_set.num_examples, \n",
    "                                      batch_size=32)))\n",
    "\n",
    "data_stream_monitor_test = Flatten(DataStream.default_stream(\n",
    "    test_set,\n",
    "    iteration_scheme=SequentialScheme(test_set.num_examples, \n",
    "                                      batch_size=1024)))\n",
    "\n",
    "data_stream_monitor_train = Flatten(DataStream.default_stream(\n",
    "    train_set,\n",
    "    iteration_scheme=SequentialScheme(train_set.num_examples, \n",
    "                                      batch_size=1024)))"
   ]
  },
  {
   "cell_type": "code",
   "execution_count": null,
   "metadata": {
    "collapsed": false
   },
   "outputs": [],
   "source": [
    "algorithm = GradientDescent(cost=cost, parameters=cg.parameters,\n",
    "                             step_rule=RMSProp(learning_rate=0.1, \n",
    "                                              decay_rate=0.99))"
   ]
  },
  {
   "cell_type": "code",
   "execution_count": null,
   "metadata": {
    "collapsed": true
   },
   "outputs": [],
   "source": [
    "monitor = DataStreamMonitoring(\n",
    "    variables=[cost], data_stream=data_stream_monitor_test, prefix=\"test\")\n",
    "monitor2 = DataStreamMonitoring(\n",
    "    variables=[cost], data_stream=data_stream_monitor_train, prefix=\"train\")\n"
   ]
  },
  {
   "cell_type": "code",
   "execution_count": null,
   "metadata": {
    "collapsed": false
   },
   "outputs": [],
   "source": [
    "main_loop = MainLoop(data_stream=data_stream_train, \n",
    "                     algorithm=algorithm,\n",
    "                     extensions=[monitor, \n",
    "                                 monitor2,\n",
    "                                 FinishAfter(after_n_epochs=5), \n",
    "                                 Printing()])"
   ]
  },
  {
   "cell_type": "code",
   "execution_count": null,
   "metadata": {
    "collapsed": false
   },
   "outputs": [],
   "source": [
    "main_loop.run() "
   ]
  },
  {
   "cell_type": "code",
   "execution_count": null,
   "metadata": {
    "collapsed": true
   },
   "outputs": [],
   "source": []
  },
  {
   "cell_type": "code",
   "execution_count": null,
   "metadata": {
    "collapsed": false
   },
   "outputs": [],
   "source": [
    "epoch = data_stream.get_epoch_iterator()"
   ]
  },
  {
   "cell_type": "code",
   "execution_count": null,
   "metadata": {
    "collapsed": false
   },
   "outputs": [],
   "source": [
    "ex_image, ex_label = next(epoch)\n",
    "\n",
    "cost.eval({x: ex_label, y_raw: ex_image})"
   ]
  },
  {
   "cell_type": "code",
   "execution_count": null,
   "metadata": {
    "collapsed": true
   },
   "outputs": [],
   "source": []
  }
 ],
 "metadata": {
  "kernelspec": {
   "display_name": "Python 2",
   "language": "python",
   "name": "python2"
  },
  "language_info": {
   "codemirror_mode": {
    "name": "ipython",
    "version": 2
   },
   "file_extension": ".py",
   "mimetype": "text/x-python",
   "name": "python",
   "nbconvert_exporter": "python",
   "pygments_lexer": "ipython2",
   "version": "2.7.6"
  }
 },
 "nbformat": 4,
 "nbformat_minor": 0
}

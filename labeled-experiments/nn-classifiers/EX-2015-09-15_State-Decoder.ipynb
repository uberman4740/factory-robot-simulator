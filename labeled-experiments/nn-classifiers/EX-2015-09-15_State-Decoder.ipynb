{
 "cells": [
  {
   "cell_type": "code",
   "execution_count": 10,
   "metadata": {
    "collapsed": false
   },
   "outputs": [],
   "source": [
    "%load_ext autoreload\n",
    "%autoreload 2\n",
    "%matplotlib inline"
   ]
  },
  {
   "cell_type": "code",
   "execution_count": 11,
   "metadata": {
    "collapsed": false
   },
   "outputs": [
    {
     "name": "stdout",
     "output_type": "stream",
     "text": [
      "Running with a CPU.  If this is not desired, then the modify network3.py to set\n",
      "the GPU flag to True.\n"
     ]
    }
   ],
   "source": [
    "import labeling_network as lbln\n",
    "from matplotlib import pyplot as plt\n",
    "import theano\n",
    "import theano.tensor as T\n",
    "import numpy as np\n",
    "from labeling_network import FullyConnectedLayer, ConvPoolLayer"
   ]
  },
  {
   "cell_type": "code",
   "execution_count": 12,
   "metadata": {
    "collapsed": true
   },
   "outputs": [],
   "source": [
    "import pylab\n",
    "pylab.rcParams['figure.figsize'] = (6.0, 6.0)"
   ]
  },
  {
   "cell_type": "code",
   "execution_count": null,
   "metadata": {
    "collapsed": true
   },
   "outputs": [],
   "source": [
    "dataPath = '../../TrainingData/LabeledData-2015-09-07/'"
   ]
  },
  {
   "cell_type": "code",
   "execution_count": null,
   "metadata": {
    "collapsed": false
   },
   "outputs": [],
   "source": [
    "train_data, valid_data, test_data = lbln.load_data_shared(\n",
    "                     dataPath,\n",
    "                     'capture',\n",
    "                     dataPath + 'labels.dat',\n",
    "                     n_train=5000,\n",
    "                     n_validation=500,\n",
    "                     n_test=500)\n",
    "\n",
    "# Flipping targets and inputs\n",
    "train_data = (train_data[1], train_data[0])\n",
    "valid_data = (valid_data[1], valid_data[0])\n",
    "test_data = (test_data[1], test_data[0])"
   ]
  },
  {
   "cell_type": "code",
   "execution_count": null,
   "metadata": {
    "collapsed": true
   },
   "outputs": [],
   "source": [
    "mini_batch_size = 10"
   ]
  },
  {
   "cell_type": "markdown",
   "metadata": {},
   "source": [
    "### Train the Network. "
   ]
  },
  {
   "cell_type": "code",
   "execution_count": null,
   "metadata": {
    "collapsed": false
   },
   "outputs": [],
   "source": [
    "network = lbln.Network([\n",
    "#         FullyConnectedLayer(n_in=29*29*20, n_out=128, p_dropout=0.5),\n",
    "        FullyConnectedLayer(n_in=5*5, n_out=250),\n",
    "        FullyConnectedLayer(n_in=250, n_out=64*64*3, p_dropout=0.0),        \n",
    "    ], mini_batch_size)"
   ]
  },
  {
   "cell_type": "code",
   "execution_count": null,
   "metadata": {
    "collapsed": false
   },
   "outputs": [],
   "source": [
    "network.SGD(train_data, \n",
    "            1, \n",
    "            mini_batch_size, \n",
    "            1000.0, \n",
    "            valid_data, \n",
    "            test_data\n",
    "           )"
   ]
  },
  {
   "cell_type": "markdown",
   "metadata": {},
   "source": [
    "#### Save network weights."
   ]
  },
  {
   "cell_type": "code",
   "execution_count": null,
   "metadata": {
    "collapsed": false
   },
   "outputs": [],
   "source": [
    "network.save_as_file('encoder_0_0108')"
   ]
  },
  {
   "cell_type": "code",
   "execution_count": null,
   "metadata": {
    "collapsed": false
   },
   "outputs": [],
   "source": [
    "network = network.load_from_file('filename', 10)"
   ]
  },
  {
   "cell_type": "code",
   "execution_count": null,
   "metadata": {
    "collapsed": false
   },
   "outputs": [],
   "source": [
    "train_data_xs = train_data[0].get_value()\n",
    "train_data_ts = train_data[1].get_value()\n",
    "\n",
    "test_data_xs = test_data[0].get_value()\n",
    "test_data_ts = test_data[1].get_value()\n",
    "\n",
    "valid_data_xs = valid_data[0].get_value()\n",
    "valid_data_ts = valid_data[1].get_value()\n"
   ]
  },
  {
   "cell_type": "code",
   "execution_count": null,
   "metadata": {
    "collapsed": true
   },
   "outputs": [],
   "source": [
    "def show_image(flat_array, width=64, height=64, colors=3):\n",
    "    plt.imshow(flat_array.reshape(width, height, colors), interpolation='nearest')\n",
    "    plt.show()\n"
   ]
  },
  {
   "cell_type": "code",
   "execution_count": null,
   "metadata": {
    "collapsed": false
   },
   "outputs": [],
   "source": [
    "for index in xrange(10):\n",
    "    show_image(test_data_ts[index])\n",
    "    show_image(network.get_single_output(test_data_xs[index]))\n",
    "    print test_data_xs[index]\n",
    "    print network.get_single_output(test_data_xs[index])\n"
   ]
  },
  {
   "cell_type": "markdown",
   "metadata": {},
   "source": [
    "### Determine all Losses on test images."
   ]
  },
  {
   "cell_type": "code",
   "execution_count": null,
   "metadata": {
    "collapsed": false
   },
   "outputs": [],
   "source": [
    "def print_classification(index):\n",
    "    print 'Target:    ', classifications[index][1]\n",
    "    print 'Prediction:', classifications[index][2]\n",
    "    print 'Loss:      ', classifications[index][3]\n",
    "    show_image(classifications[index][1])\n",
    "    show_image(classifications[index][2])\n",
    "\n",
    "\n",
    "# Determine all errors on the test images\n",
    "classifications = []\n",
    "for x, t in zip(test_data_xs, test_data_ts):\n",
    "    prediction = network.get_single_output(x)\n",
    "    error = np.mean((t - prediction) ** 2)\n",
    "    classifications.append((x, t, prediction, error))\n",
    "\n",
    "print '--- Worst predictions: ---'\n",
    "classifications = sorted(classifications, key = lambda (x, t, p, e): e, reverse=True)\n",
    "print_classification(0)\n",
    "print_classification(1)\n",
    "\n",
    "\n",
    "print '--- Best predictions: ---'\n",
    "print_classification(-1)\n",
    "print_classification(-2)\n"
   ]
  },
  {
   "cell_type": "markdown",
   "metadata": {},
   "source": [
    "### Determine baseline."
   ]
  },
  {
   "cell_type": "code",
   "execution_count": null,
   "metadata": {
    "collapsed": false
   },
   "outputs": [],
   "source": [
    "## AVERAGE SQUARED MAGNITUDE OF SENSOR VALUES:\n",
    "\n",
    "test_targets = train_data[1].get_value()\n",
    "print 'Loss of mean-regressor: %f' % np.mean((test_targets - np.mean(test_targets)) ** 2)"
   ]
  },
  {
   "cell_type": "markdown",
   "metadata": {
    "collapsed": true
   },
   "source": [
    "### Plot training progress "
   ]
  },
  {
   "cell_type": "code",
   "execution_count": null,
   "metadata": {
    "collapsed": false
   },
   "outputs": [],
   "source": [
    "progress_filenames = ['training-progresses/pickup_box_learning_curvetrain_costs.txt', \n",
    "                      'training-progresses/pickup_box_learning_curvevalidation_accuracies.txt']\n"
   ]
  },
  {
   "cell_type": "code",
   "execution_count": null,
   "metadata": {
    "collapsed": true
   },
   "outputs": [],
   "source": []
  }
 ],
 "metadata": {
  "kernelspec": {
   "display_name": "Python 2",
   "language": "python",
   "name": "python2"
  },
  "language_info": {
   "codemirror_mode": {
    "name": "ipython",
    "version": 2
   },
   "file_extension": ".py",
   "mimetype": "text/x-python",
   "name": "python",
   "nbconvert_exporter": "python",
   "pygments_lexer": "ipython2",
   "version": "2.7.6"
  }
 },
 "nbformat": 4,
 "nbformat_minor": 0
}

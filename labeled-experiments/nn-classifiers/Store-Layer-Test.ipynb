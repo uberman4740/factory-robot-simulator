{
 "cells": [
  {
   "cell_type": "code",
   "execution_count": 12,
   "metadata": {
    "collapsed": false
   },
   "outputs": [
    {
     "name": "stdout",
     "output_type": "stream",
     "text": [
      "Running with a CPU.  If this is not desired, then the modify network3.py to set\n",
      "the GPU flag to True.\n",
      "The autoreload extension is already loaded. To reload it, use:\n",
      "  %reload_ext autoreload\n"
     ]
    }
   ],
   "source": [
    "%load_ext autoreload\n",
    "%autoreload 2\n",
    "%matplotlib inline"
   ]
  },
  {
   "cell_type": "code",
   "execution_count": 13,
   "metadata": {
    "collapsed": false
   },
   "outputs": [],
   "source": [
    "import labeling_network as lbln\n",
    "from matplotlib import pyplot as plt\n",
    "import theano\n",
    "import theano.tensor as T\n",
    "import numpy as np\n",
    "from labeling_network import FullyConnectedLayer, ConvPoolLayer"
   ]
  },
  {
   "cell_type": "code",
   "execution_count": 14,
   "metadata": {
    "collapsed": false
   },
   "outputs": [],
   "source": [
    "conv_pool_layer = ConvPoolLayer(image_shape=(10, 3, 64, 64), \n",
    "                      filter_shape=(20, 3, 5, 5), \n",
    "                      poolsize=(4, 4))\n",
    "\n",
    "fully_connected_layer = FullyConnectedLayer(10, 5)"
   ]
  },
  {
   "cell_type": "code",
   "execution_count": 17,
   "metadata": {
    "collapsed": false
   },
   "outputs": [
    {
     "name": "stdout",
     "output_type": "stream",
     "text": [
      "5.39454735813\n",
      "(4, 4)\n",
      "[<TensorType(float64, 4D)>, <TensorType(float64, vector)>]\n",
      "\n",
      "-4.55496127906\n",
      "5\n",
      "[w, b]\n"
     ]
    }
   ],
   "source": [
    "print np.sum(conv_pool_layer.b.get_value())\n",
    "print conv_pool_layer.poolsize\n",
    "print conv_pool_layer.params\n",
    "\n",
    "print \n",
    "\n",
    "print np.sum(fully_connected_layer.w.get_value())\n",
    "print fully_connected_layer.n_out\n",
    "print fully_connected_layer.params"
   ]
  },
  {
   "cell_type": "code",
   "execution_count": 18,
   "metadata": {
    "collapsed": true
   },
   "outputs": [],
   "source": [
    "import cPickle"
   ]
  },
  {
   "cell_type": "code",
   "execution_count": 19,
   "metadata": {
    "collapsed": false
   },
   "outputs": [],
   "source": [
    "f = file('obj.save', 'wb')\n",
    "cPickle.dump(conv_pool_layer, f, protocol=cPickle.HIGHEST_PROTOCOL)\n",
    "f.close()\n",
    "\n",
    "\n",
    "f = file('obj2.save', 'wb')\n",
    "cPickle.dump(fully_connected_layer, f, protocol=cPickle.HIGHEST_PROTOCOL)\n",
    "f.close()"
   ]
  },
  {
   "cell_type": "code",
   "execution_count": 20,
   "metadata": {
    "collapsed": true
   },
   "outputs": [],
   "source": [
    "f = file('obj.save', 'rb')\n",
    "loaded_obj = cPickle.load(f)\n",
    "f.close()\n",
    "\n",
    "\n",
    "f = file('obj2.save', 'rb')\n",
    "loaded_obj2 = cPickle.load(f)\n",
    "f.close()"
   ]
  },
  {
   "cell_type": "code",
   "execution_count": 26,
   "metadata": {
    "collapsed": false
   },
   "outputs": [
    {
     "name": "stdout",
     "output_type": "stream",
     "text": [
      "5.39454735813\n",
      "(4, 4)\n",
      "[<TensorType(float64, 4D)>, <TensorType(float64, vector)>]\n",
      "True\n",
      "\n",
      "-4.55496127906\n",
      "5\n",
      "[<TensorType(float64, matrix)>, <TensorType(float64, vector)>]\n",
      "True\n"
     ]
    }
   ],
   "source": [
    "print np.sum(loaded_obj.b.get_value())\n",
    "print loaded_obj.poolsize\n",
    "\n",
    "print loaded_obj.params\n",
    "print type(loaded_obj) == lbln.ConvPoolLayer\n",
    "\n",
    "print \n",
    "\n",
    "print np.sum(loaded_obj2.w.get_value())\n",
    "print loaded_obj2.n_out\n",
    "\n",
    "print loaded_obj2.params\n",
    "print type(loaded_obj2) == lbln.FullyConnectedLayer\n",
    "\n",
    "\n"
   ]
  },
  {
   "cell_type": "code",
   "execution_count": null,
   "metadata": {
    "collapsed": true
   },
   "outputs": [],
   "source": []
  }
 ],
 "metadata": {
  "kernelspec": {
   "display_name": "Python 2",
   "language": "python",
   "name": "python2"
  },
  "language_info": {
   "codemirror_mode": {
    "name": "ipython",
    "version": 2
   },
   "file_extension": ".py",
   "mimetype": "text/x-python",
   "name": "python",
   "nbconvert_exporter": "python",
   "pygments_lexer": "ipython2",
   "version": "2.7.6"
  }
 },
 "nbformat": 4,
 "nbformat_minor": 0
}

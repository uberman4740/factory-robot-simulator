{
 "cells": [
  {
   "cell_type": "code",
   "execution_count": 1,
   "metadata": {
    "collapsed": true
   },
   "outputs": [],
   "source": [
    "import numpy as np"
   ]
  },
  {
   "cell_type": "markdown",
   "metadata": {},
   "source": [
    "#### Load images "
   ]
  },
  {
   "cell_type": "code",
   "execution_count": 2,
   "metadata": {
    "collapsed": true
   },
   "outputs": [],
   "source": [
    "import scipy.misc"
   ]
  },
  {
   "cell_type": "code",
   "execution_count": 3,
   "metadata": {
    "collapsed": false
   },
   "outputs": [],
   "source": [
    "def load_training_img(index, file_path, file_prefix):\n",
    "    return scipy.misc.imread(file_path + file_prefix + str(index).zfill(6) + '.png')[:,:,:-1]\n",
    "\n",
    "\n",
    "def load_images(lower, upper, file_path, file_prefix):\n",
    "    return np.asarray([load_training_img(i, file_path, file_prefix) \n",
    "                        for i in range(lower, upper)])\n",
    "\n",
    "def flatten(imgs):\n",
    "    return imgs.reshape((imgs.shape[0], np.prod(imgs.shape[1:])))\n",
    "\n",
    "# def normalize_and_flatten(imgs):\n",
    "#     return (imgs / 255.0).reshape(imgs.shape[0], imgs.shape[1]*imgs.shape[2]*imgs.shape[3])"
   ]
  },
  {
   "cell_type": "code",
   "execution_count": 4,
   "metadata": {
    "collapsed": true
   },
   "outputs": [],
   "source": [
    "def load_labeling_data(filename, lower, upper, mask=-1):    \n",
    "    labels = open(filename)\n",
    "    lines = labels.readlines()[lower:upper]\n",
    "    labels.close()\n",
    "    data = np.asarray([[float(d) for d in l.split(',')[:-1]] for l in lines])\n",
    "\n",
    "    if not mask == -1:\n",
    "        data = data[:, 5*mask: 5*(mask+1)]\n",
    "        return data.reshape(upper-lower, 5)\n",
    "    else:\n",
    "        return data.reshape(upper-lower, 5*5)\n",
    "\n"
   ]
  },
  {
   "cell_type": "code",
   "execution_count": 5,
   "metadata": {
    "collapsed": false
   },
   "outputs": [],
   "source": [
    "data_path = '/Users/an/factory-robot-data/'\n",
    "img_prefix = 'capture'\n",
    "n_examples = 50000\n",
    "\n",
    "images = flatten(load_images(0, n_examples, data_path, img_prefix))\n",
    "labels = load_labeling_data(data_path+'labels.dat', 0, n_examples)"
   ]
  },
  {
   "cell_type": "code",
   "execution_count": 7,
   "metadata": {
    "collapsed": false
   },
   "outputs": [],
   "source": [
    "n_train = 40000\n",
    "n_validation = 5000\n",
    "n_test = n_examples - n_train - n_validation\n",
    "\n",
    "n_image_features = 64*64*3\n",
    "n_label_features = 5*5\n",
    "\n",
    "# label_categories = ['human', \n",
    "#                     'pickup', \n",
    "#                     'terminal', \n",
    "#                     'fire', \n",
    "#                     'walls']\n",
    "# n_label_categories = len(label_categories)\n",
    "# n_label_features_per_category = 5\n",
    "\n",
    "# label_category_data_train = [[]] * n_label_categories\n",
    "# label_category_data_validation = [[]] * n_label_categories\n",
    "# label_category_data_test = [[]] * n_label_categories\n",
    "# for i in xrange(n_label_categories):\n",
    "#     label_category_data_train[i] = labels[:n_train, \n",
    "#                                           i*n_label_features_per_category:\n",
    "#                                           (i+1)*n_label_features_per_category]\n",
    "#     label_category_data_validation[i] = labels[n_train:n_train+n_validation, i*5:(i+1)*5]\n",
    "#     label_category_data_test[i] = labels[n_train+n_validation:, i*5:(i+1)*5]"
   ]
  },
  {
   "cell_type": "code",
   "execution_count": 8,
   "metadata": {
    "collapsed": false
   },
   "outputs": [],
   "source": [
    "import h5py\n",
    "f = h5py.File('factory_dataset.hdf5', mode='w')"
   ]
  },
  {
   "cell_type": "code",
   "execution_count": 9,
   "metadata": {
    "collapsed": true
   },
   "outputs": [],
   "source": [
    "train_images = images[:n_train]\n",
    "validation_images = images[n_train:n_train+n_validation]\n",
    "test_images = images[n_train+n_validation:]"
   ]
  },
  {
   "cell_type": "code",
   "execution_count": 10,
   "metadata": {
    "collapsed": true
   },
   "outputs": [],
   "source": [
    "image_features = f.create_dataset(\n",
    "    'image_features', (n_examples, n_image_features), dtype='uint8')"
   ]
  },
  {
   "cell_type": "code",
   "execution_count": 11,
   "metadata": {
    "collapsed": true
   },
   "outputs": [],
   "source": [
    "label_features = f.create_dataset(\n",
    "    'label_features', (n_examples, n_label_features), dtype='float32')"
   ]
  },
  {
   "cell_type": "code",
   "execution_count": 12,
   "metadata": {
    "collapsed": true
   },
   "outputs": [],
   "source": [
    "image_features[...] = images"
   ]
  },
  {
   "cell_type": "code",
   "execution_count": 13,
   "metadata": {
    "collapsed": true
   },
   "outputs": [],
   "source": [
    "label_features[...] = labels"
   ]
  },
  {
   "cell_type": "code",
   "execution_count": 14,
   "metadata": {
    "collapsed": false
   },
   "outputs": [],
   "source": [
    "image_features.dims[0].label = 'batch'\n",
    "image_features.dims[1].label = 'feature'\n",
    "label_features.dims[0].label = 'batch'\n",
    "label_features.dims[1].label = 'index'"
   ]
  },
  {
   "cell_type": "code",
   "execution_count": 15,
   "metadata": {
    "collapsed": true
   },
   "outputs": [],
   "source": [
    "from fuel.datasets.hdf5 import H5PYDataset\n",
    "split_dict = {\n",
    "    'train': {'image_features': (0, n_train),\n",
    "              'label_features': (0, n_train)},\n",
    "    'validation': {'image_features': (n_train, n_train+n_validation),\n",
    "              'label_features': (n_train, n_train+n_validation)},\n",
    "    'test': {'image_features': (n_train+n_validation, n_examples),\n",
    "              'label_features': (n_train+n_validation, n_examples)}}\n",
    "f.attrs['split'] = H5PYDataset.create_split_array(split_dict)"
   ]
  },
  {
   "cell_type": "code",
   "execution_count": 16,
   "metadata": {
    "collapsed": true
   },
   "outputs": [],
   "source": [
    "f.flush()\n",
    "f.close()"
   ]
  },
  {
   "cell_type": "code",
   "execution_count": null,
   "metadata": {
    "collapsed": true
   },
   "outputs": [],
   "source": []
  }
 ],
 "metadata": {
  "kernelspec": {
   "display_name": "Python 2",
   "language": "python",
   "name": "python2"
  },
  "language_info": {
   "codemirror_mode": {
    "name": "ipython",
    "version": 2
   },
   "file_extension": ".py",
   "mimetype": "text/x-python",
   "name": "python",
   "nbconvert_exporter": "python",
   "pygments_lexer": "ipython2",
   "version": "2.7.10"
  }
 },
 "nbformat": 4,
 "nbformat_minor": 0
}

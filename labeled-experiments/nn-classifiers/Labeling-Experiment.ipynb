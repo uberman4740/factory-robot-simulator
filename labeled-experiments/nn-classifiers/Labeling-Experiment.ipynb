{
 "cells": [
  {
   "cell_type": "code",
   "execution_count": null,
   "metadata": {
    "collapsed": false
   },
   "outputs": [],
   "source": [
    "%load_ext autoreload\n",
    "%autoreload 2\n",
    "%matplotlib inline"
   ]
  },
  {
   "cell_type": "code",
   "execution_count": null,
   "metadata": {
    "collapsed": false
   },
   "outputs": [],
   "source": [
    "import labeling_network as lbln\n",
    "from matplotlib import pyplot as plt\n",
    "import theano\n",
    "import theano.tensor as T\n",
    "import numpy as np\n",
    "from labeling_network import FullyConnectedLayer"
   ]
  },
  {
   "cell_type": "code",
   "execution_count": null,
   "metadata": {
    "collapsed": false
   },
   "outputs": [],
   "source": [
    "train_data, valid_data, test_data = lbln.load_data_shared(\n",
    "                     '../../TrainingData/LabeledData/',\n",
    "                     'capture',\n",
    "                     '../../TrainingData/LabeledData/labels.dat',\n",
    "                      n_train=15000,\n",
    "                      n_validation=2000,\n",
    "                      n_test=500,\n",
    "                      label_mask=1)"
   ]
  },
  {
   "cell_type": "code",
   "execution_count": null,
   "metadata": {
    "collapsed": true
   },
   "outputs": [],
   "source": [
    "mini_batch_size = 10"
   ]
  },
  {
   "cell_type": "code",
   "execution_count": null,
   "metadata": {
    "collapsed": false
   },
   "outputs": [],
   "source": [
    "network = lbln.Network([\n",
    "        FullyConnectedLayer(n_in=64*64*3, n_out=100),\n",
    "        FullyConnectedLayer(n_in=100, n_out=5)\n",
    "    ], mini_batch_size)"
   ]
  },
  {
   "cell_type": "code",
   "execution_count": null,
   "metadata": {
    "collapsed": false
   },
   "outputs": [],
   "source": [
    "network.SGD(train_data, 10, mini_batch_size, 0.01, valid_data, test_data)"
   ]
  },
  {
   "cell_type": "code",
   "execution_count": null,
   "metadata": {
    "collapsed": false
   },
   "outputs": [],
   "source": [
    "import pylab\n",
    "pylab.rcParams['figure.figsize'] = (10.0, 8.0)"
   ]
  },
  {
   "cell_type": "code",
   "execution_count": null,
   "metadata": {
    "collapsed": false
   },
   "outputs": [],
   "source": [
    "index = 7\n",
    "\n",
    "im = test_data[0].get_value()[index].reshape(64, 64, 3)\n",
    "plt.imshow(im, interpolation='nearest')\n",
    "\n",
    "network_function = theano.function([network.x], network.output)\n",
    "\n",
    "prediction = network_function(test_data[0].get_value()[10:10+mini_batch_size])[index]\n",
    "actual = test_data[1].get_value()[index]\n",
    "\n",
    "print prediction\n",
    "print\n",
    "print actual\n",
    "\n",
    "print \n",
    "print 'Mean predicted output', np.mean(prediction)\n",
    "print 'Mean actual output', np.mean(actual)\n",
    "print 'Loss', np.mean(-np.log(1.0000001 - np.abs(prediction - actual)))"
   ]
  },
  {
   "cell_type": "code",
   "execution_count": null,
   "metadata": {
    "collapsed": false
   },
   "outputs": [],
   "source": [
    "np.log(0.0000001 ** 2)"
   ]
  },
  {
   "cell_type": "code",
   "execution_count": null,
   "metadata": {
    "collapsed": false
   },
   "outputs": [],
   "source": [
    "actual = train_data[1].get_value()[:20]\n",
    "print actual"
   ]
  },
  {
   "cell_type": "code",
   "execution_count": null,
   "metadata": {
    "collapsed": true
   },
   "outputs": [],
   "source": []
  }
 ],
 "metadata": {
  "kernelspec": {
   "display_name": "Python 2",
   "language": "python",
   "name": "python2"
  },
  "language_info": {
   "codemirror_mode": {
    "name": "ipython",
    "version": 2
   },
   "file_extension": ".py",
   "mimetype": "text/x-python",
   "name": "python",
   "nbconvert_exporter": "python",
   "pygments_lexer": "ipython2",
   "version": "2.7.6"
  }
 },
 "nbformat": 4,
 "nbformat_minor": 0
}

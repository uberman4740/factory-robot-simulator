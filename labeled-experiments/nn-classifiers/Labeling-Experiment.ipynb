{
 "cells": [
  {
   "cell_type": "code",
   "execution_count": 1,
   "metadata": {
    "collapsed": false
   },
   "outputs": [],
   "source": [
    "%load_ext autoreload\n",
    "%autoreload 2\n",
    "%matplotlib inline"
   ]
  },
  {
   "cell_type": "code",
   "execution_count": 2,
   "metadata": {
    "collapsed": false
   },
   "outputs": [
    {
     "name": "stdout",
     "output_type": "stream",
     "text": [
      "Running with a CPU.  If this is not desired, then the modify network3.py to set\n",
      "the GPU flag to True.\n"
     ]
    }
   ],
   "source": [
    "import labeling_network as lbln\n",
    "from matplotlib import pyplot as plt\n",
    "import theano\n",
    "import theano.tensor as T\n",
    "import numpy as np\n",
    "from labeling_network import FullyConnectedLayer, ConvPoolLayer"
   ]
  },
  {
   "cell_type": "code",
   "execution_count": 3,
   "metadata": {
    "collapsed": true
   },
   "outputs": [],
   "source": [
    "dataPath = '../../TrainingData/LabeledData-2015-09-07/'"
   ]
  },
  {
   "cell_type": "code",
   "execution_count": 4,
   "metadata": {
    "collapsed": false
   },
   "outputs": [],
   "source": [
    "train_data, valid_data, test_data = lbln.load_data_shared(\n",
    "                     dataPath,\n",
    "                     'capture',\n",
    "                     dataPath + 'labels.dat',\n",
    "                     n_train=8000,\n",
    "                     n_validation=500,\n",
    "                     n_test=100,\n",
    "                     label_mask=3)"
   ]
  },
  {
   "cell_type": "code",
   "execution_count": 5,
   "metadata": {
    "collapsed": true
   },
   "outputs": [],
   "source": [
    "mini_batch_size = 10"
   ]
  },
  {
   "cell_type": "code",
   "execution_count": 6,
   "metadata": {
    "collapsed": false
   },
   "outputs": [],
   "source": [
    "network = lbln.Network([\n",
    "#         ConvPoolLayer(image_shape=(mini_batch_size, 3, 64, 64), \n",
    "#                       filter_shape=(20, 3, 5, 5), \n",
    "#                       poolsize=(2, 2),\n",
    "#                       activation_fn=lbln.ReLU),\n",
    "        \n",
    "#         ConvPoolLayer(image_shape=(mini_batch_size, 20, 30, 30), \n",
    "#                       filter_shape=(40, 20, 5, 5), \n",
    "#                       poolsize=(2, 2),\n",
    "#                       activation_fn=lbln.ReLU),       \n",
    "        \n",
    "#         FullyConnectedLayer(n_in=13*13*40, \n",
    "#                             n_out=50, \n",
    "#                             activation_fn=lbln.ReLU,\n",
    "#                             p_dropout=0.2),\n",
    "        \n",
    "#         FullyConnectedLayer(n_in=50, n_out=5)\n",
    "        \n",
    "        ConvPoolLayer(image_shape=(mini_batch_size, 3, 64, 64), \n",
    "                      filter_shape=(20, 3, 7, 7), \n",
    "                      poolsize=(2, 2),\n",
    "                      activation_fn=lbln.ReLU),\n",
    "        FullyConnectedLayer(n_in=29*29*20, n_out=128, p_dropout=0.5),\n",
    "        FullyConnectedLayer(n_in=128, n_out=5)\n",
    "        \n",
    "        \n",
    "    ], mini_batch_size)"
   ]
  },
  {
   "cell_type": "code",
   "execution_count": 7,
   "metadata": {
    "collapsed": false
   },
   "outputs": [
    {
     "name": "stdout",
     "output_type": "stream",
     "text": [
      "--- Training mini-batch number 0 ---\n",
      "  Epoch 0: validation accuracy -0.054403\n",
      "    This is the best validation accuracy to date.\n",
      "      The corresponding test accuracy is -0.056769\n",
      "    Current cost on training set: 0.0544313646646\n",
      "--- Training mini-batch number 1000 ---\n",
      "  Epoch 1: validation accuracy -0.053342\n",
      "    This is the best validation accuracy to date.\n",
      "      The corresponding test accuracy is -0.054112\n",
      "    Current cost on training set: 0.0525763351893\n",
      "--- Training mini-batch number 2000 ---\n",
      "  Epoch 2: validation accuracy -0.052921\n",
      "    This is the best validation accuracy to date.\n",
      "      The corresponding test accuracy is -0.053141\n",
      "    Current cost on training set: 0.0520544013232\n",
      "--- Training mini-batch number 3000 ---\n",
      "  Epoch 3: validation accuracy -0.052674\n",
      "    This is the best validation accuracy to date.\n",
      "      The corresponding test accuracy is -0.052193\n",
      "    Current cost on training set: 0.0515536271781\n",
      "  Epoch 4: validation accuracy -0.051045\n",
      "    This is the best validation accuracy to date.\n",
      "      The corresponding test accuracy is -0.050076\n",
      "    Current cost on training set: 0.0503401321322\n",
      "--- Training mini-batch number 4000 ---\n",
      "  Epoch 5: validation accuracy -0.037595\n",
      "    This is the best validation accuracy to date.\n",
      "      The corresponding test accuracy is -0.034553\n",
      "    Current cost on training set: 0.0422808656439\n",
      "--- Training mini-batch number 5000 ---\n",
      "  Epoch 6: validation accuracy -0.029329\n",
      "    This is the best validation accuracy to date.\n",
      "      The corresponding test accuracy is -0.021962\n",
      "    Current cost on training set: 0.0286053111115\n",
      "--- Training mini-batch number 6000 ---\n",
      "  Epoch 7: validation accuracy -0.026988\n",
      "    This is the best validation accuracy to date.\n",
      "      The corresponding test accuracy is -0.019189\n",
      "    Current cost on training set: 0.0224419735321\n",
      "--- Training mini-batch number 7000 ---\n",
      "  Epoch 8: validation accuracy -0.026629\n",
      "    This is the best validation accuracy to date.\n",
      "      The corresponding test accuracy is -0.019211\n",
      "    Current cost on training set: 0.0205561750702\n",
      "  Epoch 9: validation accuracy -0.026992\n",
      "    Current cost on training set: 0.0195842896627\n",
      "--- Training mini-batch number 8000 ---\n",
      "  Epoch 10: validation accuracy -0.027021\n",
      "    Current cost on training set: 0.0190261222681\n",
      "--- Training mini-batch number 9000 ---\n",
      "  Epoch 11: validation accuracy -0.026969\n",
      "    Current cost on training set: 0.018286701384\n",
      "--- Training mini-batch number 10000 ---\n",
      "  Epoch 12: validation accuracy -0.027419\n",
      "    Current cost on training set: 0.0181262733977\n",
      "--- Training mini-batch number 11000 ---\n",
      "  Epoch 13: validation accuracy -0.025676\n",
      "    This is the best validation accuracy to date.\n",
      "      The corresponding test accuracy is -0.01429\n",
      "    Current cost on training set: 0.0175551583142\n",
      "  Epoch 14: validation accuracy -0.024023\n",
      "    This is the best validation accuracy to date.\n",
      "      The corresponding test accuracy is -0.012128\n",
      "    Current cost on training set: 0.0171465601068\n",
      "--- Training mini-batch number 12000 ---\n",
      "  Epoch 15: validation accuracy -0.026166\n",
      "    Current cost on training set: 0.0169722666302\n",
      "--- Training mini-batch number 13000 ---\n",
      "  Epoch 16: validation accuracy -0.025027\n",
      "    Current cost on training set: 0.0166667107654\n",
      "--- Training mini-batch number 14000 ---\n",
      "  Epoch 17: validation accuracy -0.023261\n",
      "    This is the best validation accuracy to date.\n",
      "      The corresponding test accuracy is -0.010588\n",
      "    Current cost on training set: 0.0163658088976\n",
      "--- Training mini-batch number 15000 ---\n",
      "  Epoch 18: validation accuracy -0.02434\n",
      "    Current cost on training set: 0.0164235120309\n",
      "  Epoch 19: validation accuracy -0.024361\n",
      "    Current cost on training set: 0.0166923868758\n",
      "--- Training mini-batch number 16000 ---\n",
      "  Epoch 20: validation accuracy -0.022248\n",
      "    This is the best validation accuracy to date.\n",
      "      The corresponding test accuracy is -0.013826\n",
      "    Current cost on training set: 0.0154714363054\n",
      "--- Training mini-batch number 17000 ---\n",
      "  Epoch 21: validation accuracy -0.023485\n",
      "    Current cost on training set: 0.0162312140718\n",
      "--- Training mini-batch number 18000 ---\n",
      "  Epoch 22: validation accuracy -0.026673\n",
      "    Current cost on training set: 0.0152109529407\n",
      "--- Training mini-batch number 19000 ---\n",
      "  Epoch 23: validation accuracy -0.02416\n",
      "    Current cost on training set: 0.015246031624\n",
      "  Epoch 24: validation accuracy -0.02177\n",
      "    This is the best validation accuracy to date.\n",
      "      The corresponding test accuracy is -0.010642\n",
      "    Current cost on training set: 0.0151658967408\n",
      "--- Training mini-batch number 20000 ---\n",
      "  Epoch 25: validation accuracy -0.023899\n",
      "    Current cost on training set: 0.0149852372463\n",
      "--- Training mini-batch number 21000 ---\n",
      "  Epoch 26: validation accuracy -0.022128\n",
      "    Current cost on training set: 0.0147045560874\n",
      "--- Training mini-batch number 22000 ---\n",
      "  Epoch 27: validation accuracy -0.02502\n",
      "    Current cost on training set: 0.0146904853914\n",
      "--- Training mini-batch number 23000 ---\n",
      "  Epoch 28: validation accuracy -0.023989\n",
      "    Current cost on training set: 0.0141189785383\n",
      "  Epoch 29: validation accuracy -0.025873\n",
      "Finished training network.\n",
      "Best validation accuracy of -0.02177 obtained at iteration 19999\n",
      "Corresponding test accuracy of -0.010642\n"
     ]
    },
    {
     "name": "stderr",
     "output_type": "stream",
     "text": [
      "/usr/lib/python2.7/dist-packages/numpy/core/_methods.py:55: RuntimeWarning: Mean of empty slice.\n",
      "  warnings.warn(\"Mean of empty slice.\", RuntimeWarning)\n"
     ]
    }
   ],
   "source": [
    "network.SGD(train_data, \n",
    "            30, \n",
    "            mini_batch_size, \n",
    "            1.0, \n",
    "            valid_data, \n",
    "            test_data,\n",
    "            \"fire_classifier_best\",\n",
    "            learning_curve_file_name='fire_learning_curve'\n",
    "           )"
   ]
  },
  {
   "cell_type": "markdown",
   "metadata": {},
   "source": [
    "#### Save network weights."
   ]
  },
  {
   "cell_type": "code",
   "execution_count": null,
   "metadata": {
    "collapsed": true
   },
   "outputs": [],
   "source": [
    "network.save_as_file('fire_classifier')"
   ]
  },
  {
   "cell_type": "code",
   "execution_count": 8,
   "metadata": {
    "collapsed": false
   },
   "outputs": [],
   "source": [
    "import pylab\n",
    "pylab.rcParams['figure.figsize'] = (6.0, 6.0)"
   ]
  },
  {
   "cell_type": "code",
   "execution_count": 9,
   "metadata": {
    "collapsed": false
   },
   "outputs": [],
   "source": [
    "def determine_test_accuracy(net, xs, ts, offset, allowed_dev):\n",
    "    assert len(xs) == len(ts)\n",
    "    errors = 0\n",
    "    for x, t in zip(xs, ts):\n",
    "        prediction = net.get_single_output(x)\n",
    "        err = 1 - np.prod(np.greater(prediction - (t-offset)/allowed_dev, 0)) * np.prod(np.greater((t+offset)*allowed_dev - prediction, 0))\n",
    "        errors += err\n",
    "    return (1.0 * len(xs)-errors) / len(xs)"
   ]
  },
  {
   "cell_type": "markdown",
   "metadata": {},
   "source": [
    "### Determine 'accuracy' on test set. "
   ]
  },
  {
   "cell_type": "code",
   "execution_count": 10,
   "metadata": {
    "collapsed": false
   },
   "outputs": [
    {
     "name": "stdout",
     "output_type": "stream",
     "text": [
      "0.89\n"
     ]
    }
   ],
   "source": [
    "print determine_test_accuracy(network, test_data[0].get_value(), test_data[1].get_value(), 0.2, 1.2)"
   ]
  },
  {
   "cell_type": "code",
   "execution_count": 11,
   "metadata": {
    "collapsed": false
   },
   "outputs": [],
   "source": [
    "test_data_xs = test_data[0].get_value()\n",
    "test_data_ts = test_data[1].get_value()\n",
    "\n",
    "valid_data_xs = valid_data[0].get_value()\n",
    "valid_data_ts = valid_data[1].get_value()\n"
   ]
  },
  {
   "cell_type": "markdown",
   "metadata": {},
   "source": [
    "### Determine all Losses on test images."
   ]
  },
  {
   "cell_type": "code",
   "execution_count": 12,
   "metadata": {
    "collapsed": false
   },
   "outputs": [
    {
     "name": "stdout",
     "output_type": "stream",
     "text": [
      "--- Worst predictions: ---\n",
      "Target:     [ 0.  0.  0.  0.  0.]\n",
      "Prediction: [ 0.00114177  0.00186745  0.05192341  0.80256231  0.80319375]\n",
      "Loss:       0.258385460407\n"
     ]
    },
    {
     "data": {
      "image/png": "[encoded data removed]",
      "text/plain": [
       "<matplotlib.figure.Figure at 0x7f0c1d8133d0>"
      ]
     },
     "metadata": {},
     "output_type": "display_data"
    },
    {
     "name": "stdout",
     "output_type": "stream",
     "text": [
      "Target:     [ 0.  0.  0.  0.  0.]\n",
      "Prediction: [ 0.43888409  0.33964425  0.22278987  0.33118533  0.25239448]\n",
      "Loss:       0.106199895414\n"
     ]
    },
    {
     "data": {
      "image/png": "[encoded data removed]",
      "text/plain": [
       "<matplotlib.figure.Figure at 0x7f0c5a83af10>"
      ]
     },
     "metadata": {},
     "output_type": "display_data"
    }
   ],
   "source": [
    "def print_classification(index):\n",
    "    print 'Target:    ', classifications[index][1]\n",
    "    print 'Prediction:', classifications[index][2]\n",
    "    print 'Loss:      ', classifications[index][3]\n",
    "    plt.imshow(classifications[index][0].reshape(64, 64, 3), interpolation='nearest')\n",
    "    plt.show()\n",
    "\n",
    "\n",
    "# Determine all errors on the test images\n",
    "classifications = []\n",
    "for x, t in zip(test_data_xs, test_data_ts):\n",
    "    prediction = network.get_single_output(x)\n",
    "    error = np.mean((t - prediction) ** 2)\n",
    "    classifications.append((x, t, prediction, error))\n",
    "\n",
    "print '--- Worst predictions: ---'\n",
    "classifications = sorted(classifications, key = lambda (x, t, p, e): e, reverse=True)\n",
    "print_classification(0)\n",
    "print_classification(1)"
   ]
  },
  {
   "cell_type": "markdown",
   "metadata": {},
   "source": [
    "### False positives / negatives."
   ]
  },
  {
   "cell_type": "code",
   "execution_count": 13,
   "metadata": {
    "collapsed": false
   },
   "outputs": [
    {
     "name": "stdout",
     "output_type": "stream",
     "text": [
      "--- FALSE POSITIVES ---\n",
      "Target:     [ 0.  0.  0.  0.  0.]\n",
      "Prediction: [ 0.00114177  0.00186745  0.05192341  0.80256231  0.80319375]\n",
      "Loss:       0.258385460407\n"
     ]
    },
    {
     "data": {
      "image/png": "[encoded data removed]",
      "text/plain": [
       "<matplotlib.figure.Figure at 0x7f0c1ef07c90>"
      ]
     },
     "metadata": {},
     "output_type": "display_data"
    },
    {
     "name": "stdout",
     "output_type": "stream",
     "text": [
      "Target:     [ 0.  0.  0.  0.  0.]\n",
      "Prediction: [ 0.43888409  0.33964425  0.22278987  0.33118533  0.25239448]\n",
      "Loss:       0.106199895414\n"
     ]
    },
    {
     "data": {
      "image/png": "[encoded data removed]",
      "text/plain": [
       "<matplotlib.figure.Figure at 0x7f0c550e9e50>"
      ]
     },
     "metadata": {},
     "output_type": "display_data"
    },
    {
     "name": "stdout",
     "output_type": "stream",
     "text": [
      "\n",
      "\n",
      "\n",
      "\n",
      "--- FALSE NEGATIVES ---\n",
      "Target:     [ 0.8000001  1.         1.         1.         1.       ]\n",
      "Prediction: [ 0.41458648  0.75916356  0.81359349  0.8743962   0.89029967]\n",
      "Loss:       0.0538207417359\n"
     ]
    },
    {
     "data": {
      "image/png": "[encoded data removed]",
      "text/plain": [
       "<matplotlib.figure.Figure at 0x7f0c1e48fc10>"
      ]
     },
     "metadata": {},
     "output_type": "display_data"
    },
    {
     "name": "stdout",
     "output_type": "stream",
     "text": [
      "Target:     [ 0.         0.         0.9200001  1.         1.       ]\n",
      "Prediction: [  1.67381804e-04   4.90531525e-03   6.53826117e-01   9.18635932e-01\n",
      "   7.39238414e-01]\n",
      "Loss:       0.0290978792072\n"
     ]
    },
    {
     "data": {
      "image/png": "[encoded data removed]",
      "text/plain": [
       "<matplotlib.figure.Figure at 0x7f0c1d813e10>"
      ]
     },
     "metadata": {},
     "output_type": "display_data"
    }
   ],
   "source": [
    "print '--- FALSE POSITIVES ---'\n",
    "classifications = sorted(classifications, key = lambda (x, t, p, e): np.mean(p - t), reverse=True)\n",
    "print_classification(0)\n",
    "print_classification(1)\n",
    "\n",
    "\n",
    "print '\\n\\n\\n\\n--- FALSE NEGATIVES ---'\n",
    "classifications = sorted(classifications, key = lambda (x, t, p, e): np.mean(t - p), reverse=True)\n",
    "print_classification(0)\n",
    "print_classification(1)"
   ]
  },
  {
   "cell_type": "markdown",
   "metadata": {},
   "source": [
    "### Find images displaying high signal w.r.t. target of interest."
   ]
  },
  {
   "cell_type": "code",
   "execution_count": null,
   "metadata": {
    "collapsed": false
   },
   "outputs": [],
   "source": [
    "high_signal_images = np.asarray([(x, t) for (x, t) in zip(valid_data_xs, valid_data_ts) if np.mean(t) > 0.2])\n",
    "\n",
    "print '%d high signal images:' % len(high_signal_images)\n",
    "\n",
    "for x, t in high_signal_images[:10]:\n",
    "    prediction = network.get_single_output(x)\n",
    "    plt.imshow(x.reshape(64, 64, 3), interpolation='nearest')\n",
    "    plt.show()\n",
    "    print 't:', t\n",
    "    print 'p:', prediction\n",
    "    print 'd:', np.mean((t - prediction) ** 2)\n"
   ]
  },
  {
   "cell_type": "markdown",
   "metadata": {},
   "source": [
    "### Determine baseline."
   ]
  },
  {
   "cell_type": "code",
   "execution_count": null,
   "metadata": {
    "collapsed": false
   },
   "outputs": [],
   "source": [
    "## AVERAGE SQUARED MAGNITUDE OF SENSOR VALUES:\n",
    "\n",
    "test_targets = train_data[1].get_value()\n",
    "print 'Loss of mean-regressor: %f' % np.mean((test_targets - np.mean(test_targets)) ** 2)"
   ]
  },
  {
   "cell_type": "markdown",
   "metadata": {},
   "source": [
    "### Visualize target labels"
   ]
  },
  {
   "cell_type": "code",
   "execution_count": null,
   "metadata": {
    "collapsed": false
   },
   "outputs": [],
   "source": [
    "import scipy.misc\n",
    "\n",
    "def load_training_img(index):\n",
    "    return scipy.misc.imread(dataPath + 'capture' + str(index).zfill(6) + '.png')[:,:,:-1]\n",
    "\n",
    "def load_labeling_data(lower, upper):    \n",
    "    labels = open(dataPath + 'labels.dat')\n",
    "    lines = labels.readlines()[lower:upper]\n",
    "\n",
    "    data = np.asarray([[float(d) for d in l.split(',')[:-1]] for l in lines])\n",
    "    return data.reshape(upper-lower, 5, 5)\n",
    "\n",
    "pic_ind = 5\n",
    "\n",
    "img = load_training_img(pic_ind)\n",
    "\n",
    "plt.imshow(img, interpolation='nearest')\n",
    "plt.show()\n",
    "\n",
    "\n",
    "data = load_labeling_data(pic_ind, pic_ind+1)\n",
    "label_titles = ['Humanoid', 'PickupBox', 'Terminal', 'Fire', 'Walls']\n",
    "\n",
    "for d, t in zip(data[0], label_titles):\n",
    "    ax = plt.subplot()    \n",
    "    ax.set_ylim(0, 1.1)\n",
    "    ax.set_xlim(-2.5, 2.5)\n",
    "    ax.set_title(t)\n",
    "    barchart = ax.bar(np.arange(5) - 2, d, align='center')\n",
    "    plt.show()\n"
   ]
  },
  {
   "cell_type": "code",
   "execution_count": null,
   "metadata": {
    "collapsed": true
   },
   "outputs": [],
   "source": []
  }
 ],
 "metadata": {
  "kernelspec": {
   "display_name": "Python 2",
   "language": "python",
   "name": "python2"
  },
  "language_info": {
   "codemirror_mode": {
    "name": "ipython",
    "version": 2
   },
   "file_extension": ".py",
   "mimetype": "text/x-python",
   "name": "python",
   "nbconvert_exporter": "python",
   "pygments_lexer": "ipython2",
   "version": "2.7.6"
  }
 },
 "nbformat": 4,
 "nbformat_minor": 0
}
